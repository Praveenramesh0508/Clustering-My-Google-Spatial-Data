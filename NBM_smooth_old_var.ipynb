{
  "nbformat": 4,
  "nbformat_minor": 0,
  "metadata": {
    "colab": {
      "name": "NBM_smooth_old_var.ipynb",
      "provenance": [],
      "collapsed_sections": [
        "wIe2b8xCeSEC",
        "8M8NDmOWFKSC",
        "Zt04-OxAHt1Q"
      ]
    },
    "kernelspec": {
      "name": "python3",
      "display_name": "Python 3"
    }
  },
  "cells": [
    {
      "cell_type": "markdown",
      "metadata": {
        "id": "JWjni2apLtq6",
        "colab_type": "text"
      },
      "source": [
        "# **TRAIN DATA**"
      ]
    },
    {
      "cell_type": "markdown",
      "metadata": {
        "id": "j-2DXRi5GvWs",
        "colab_type": "text"
      },
      "source": [
        "###Import"
      ]
    },
    {
      "cell_type": "code",
      "metadata": {
        "id": "HTOuAb6df0sQ",
        "colab_type": "code",
        "colab": {
          "base_uri": "https://localhost:8080/",
          "height": 161
        },
        "outputId": "292ed6fa-0f0d-43bc-b765-8bad7ff590d1"
      },
      "source": [
        "import pandas as pd\n",
        "import numpy as np\n",
        "import matplotlib.pyplot as plt\n",
        "import matplotlib.dates as mdates\n",
        "from statsmodels.tools import eval_measures\n",
        "import statsmodels.api as sm\n",
        "import statsmodels.formula.api as smf\n",
        "from sklearn.model_selection import train_test_split\n",
        "import datetime\n",
        "pd.set_option('display.max_rows', 500)\n",
        "from google.colab import drive\n",
        "import os\n",
        "drive.mount('/content/drive')\n",
        "os.chdir('/content/drive/My Drive/GoML/Data')"
      ],
      "execution_count": null,
      "outputs": [
        {
          "output_type": "stream",
          "text": [
            "/usr/local/lib/python3.6/dist-packages/statsmodels/tools/_testing.py:19: FutureWarning: pandas.util.testing is deprecated. Use the functions in the public API at pandas.testing instead.\n",
            "  import pandas.util.testing as tm\n"
          ],
          "name": "stderr"
        },
        {
          "output_type": "stream",
          "text": [
            "Go to this URL in a browser: https://accounts.google.com/o/oauth2/auth?client_id=947318989803-6bn6qk8qdgf4n4g3pfee6491hc0brc4i.apps.googleusercontent.com&redirect_uri=urn%3aietf%3awg%3aoauth%3a2.0%3aoob&scope=email%20https%3a%2f%2fwww.googleapis.com%2fauth%2fdocs.test%20https%3a%2f%2fwww.googleapis.com%2fauth%2fdrive%20https%3a%2f%2fwww.googleapis.com%2fauth%2fdrive.photos.readonly%20https%3a%2f%2fwww.googleapis.com%2fauth%2fpeopleapi.readonly&response_type=code\n",
            "\n",
            "Enter your authorization code:\n",
            "··········\n",
            "Mounted at /content/drive\n"
          ],
          "name": "stdout"
        }
      ]
    },
    {
      "cell_type": "markdown",
      "metadata": {
        "id": "a0JuK-hbGyyn",
        "colab_type": "text"
      },
      "source": [
        "###Get Data"
      ]
    },
    {
      "cell_type": "code",
      "metadata": {
        "id": "wFzuqAqWgGxb",
        "colab_type": "code",
        "colab": {}
      },
      "source": [
        "sj_train = pd.read_csv(\"sj_data_smooth.csv\")"
      ],
      "execution_count": null,
      "outputs": []
    },
    {
      "cell_type": "code",
      "metadata": {
        "id": "NxvjTUnggy4B",
        "colab_type": "code",
        "colab": {}
      },
      "source": [
        "iq_train = pd.read_csv(\"iq_data_smooth.csv\")"
      ],
      "execution_count": null,
      "outputs": []
    },
    {
      "cell_type": "code",
      "metadata": {
        "id": "cjBOv4-odTfZ",
        "colab_type": "code",
        "colab": {}
      },
      "source": [
        "sj_train.head()"
      ],
      "execution_count": null,
      "outputs": []
    },
    {
      "cell_type": "code",
      "metadata": {
        "id": "SsH3wJSCcyoL",
        "colab_type": "code",
        "colab": {}
      },
      "source": [
        "#Adding avg_temp,max_temp,prep_avg var an average of station_avg and reanalysis_avg\n",
        "sj_train['reanalysis_avg_temp_c']=sj_train['reanalysis_avg_temp_k']-273\n",
        "iq_train['reanalysis_avg_temp_c']=iq_train['reanalysis_avg_temp_k']-273\n",
        "\n",
        "sj_train['reanalysis_max_air_temp_c']=sj_train['reanalysis_max_air_temp_k']-273\n",
        "iq_train['reanalysis_max_air_temp_c']=iq_train['reanalysis_max_air_temp_k']-273\n",
        "\n",
        "sj_train['avg_temp']=(sj_train['reanalysis_avg_temp_c']+sj_train['station_avg_temp_c'])/2\n",
        "iq_train['avg_temp']=(iq_train['reanalysis_avg_temp_c']+iq_train['station_avg_temp_c'])/2\n",
        "\n",
        "sj_train['max_temp']=(sj_train['station_max_temp_c']+sj_train['reanalysis_max_air_temp_c'])/2\n",
        "iq_train['max_temp']=(iq_train['station_max_temp_c']+iq_train['reanalysis_max_air_temp_c'])/2\n",
        "\n",
        "sj_train['prep_avg']=(sj_train['station_precip_mm']+sj_train['reanalysis_sat_precip_amt_mm'])/2\n",
        "iq_train['prep_avg']=(iq_train['station_precip_mm']+iq_train['reanalysis_sat_precip_amt_mm'])/2\n"
      ],
      "execution_count": null,
      "outputs": []
    },
    {
      "cell_type": "code",
      "metadata": {
        "id": "GkzG2fYfeSO7",
        "colab_type": "code",
        "colab": {}
      },
      "source": [
        "sj_train.head()"
      ],
      "execution_count": null,
      "outputs": []
    },
    {
      "cell_type": "markdown",
      "metadata": {
        "id": "wIe2b8xCeSEC",
        "colab_type": "text"
      },
      "source": [
        "###Visualization (optional)"
      ]
    },
    {
      "cell_type": "code",
      "metadata": {
        "id": "2CgKCdUAQR2-",
        "colab_type": "code",
        "colab": {}
      },
      "source": [
        "def scaler(x):\n",
        "  return (x - x.min())/(x.max() - x.min())"
      ],
      "execution_count": null,
      "outputs": []
    },
    {
      "cell_type": "code",
      "metadata": {
        "id": "8qcDWRbK-KL4",
        "colab_type": "code",
        "colab": {}
      },
      "source": [
        "# sj_train.dtypes"
      ],
      "execution_count": null,
      "outputs": []
    },
    {
      "cell_type": "code",
      "metadata": {
        "id": "TtFvDLqFQEH1",
        "colab_type": "code",
        "colab": {
          "base_uri": "https://localhost:8080/"
        },
        "outputId": "76c4b97b-101a-4e55-e53f-c9176b41966e"
      },
      "source": [
        "# import matplotlib.dates as mdates\n",
        "# plt.figure(figsize=(35,12))\n",
        "# # plt.plot(sj_year[\"week_start_date\"],scaler(sj_year[\"precipitation_amt_mm\"]),label=\"precep\")\n",
        "# # plt.plot(sj_train[\"week_start_date\"],scaler(sj_train[\"station_max_temp_c\"]),label=\"temp\")\n",
        "# plt.plot(pd.to_datetime(sj_train[\"week_start_date\"]),scaler(sj_train[\"precipitation_amt_mm\"]),label=\"prep\")\n",
        "# plt.plot(pd.to_datetime(sj_train[\"week_start_date\"]),scaler(sj_train[\"total_cases\"]),label=\"cases\")\n",
        "# ax = plt.gca()\n",
        "\n",
        "# # # ax.xaxis.set_major_locator(mdates.MonthLocator())\n",
        "# # # ax.xaxis.set_major_formatter(mdates.DateFormatter('%d-%m-%Y'))\n",
        "\n",
        "\n",
        "# ax.xaxis.set_major_locator(mdates.YearLocator(1, month=1, day=1))\n",
        "# ax.xaxis.set_major_formatter(mdates.DateFormatter('%d-%m-%Y'))\n",
        "# # plt.gcf().autofmt_xdate() # Rotation\n",
        "# # plt.legend()\n",
        "# plt.show()"
      ],
      "execution_count": null,
      "outputs": [
        {
          "output_type": "display_data",
          "data": {
            "image/png": "[encoded data removed]",
            "text/plain": [
              "<Figure size 2520x864 with 1 Axes>"
            ]
          },
          "metadata": {
            "tags": [],
            "needs_background": "light"
          }
        }
      ]
    },
    {
      "cell_type": "markdown",
      "metadata": {
        "id": "E6RzhFnXG5OJ",
        "colab_type": "text"
      },
      "source": [
        "###Lag Function "
      ]
    },
    {
      "cell_type": "code",
      "metadata": {
        "id": "WYRpMlWP73Iv",
        "colab_type": "code",
        "colab": {}
      },
      "source": [
        "def lag(x, n):\n",
        "    if n == 0:\n",
        "        return x\n",
        "    if isinstance(x, pd.Series):\n",
        "        return x.shift(n) \n",
        "    else:\n",
        "        x = pd.Series(x)\n",
        "        return x.shift(n) \n",
        "\n",
        "    x = x.copy()\n",
        "    x[n:] = x[0:-n]\n",
        "    x[:n] = np.nan\n",
        "    return x"
      ],
      "execution_count": null,
      "outputs": []
    },
    {
      "cell_type": "markdown",
      "metadata": {
        "id": "8M8NDmOWFKSC",
        "colab_type": "text"
      },
      "source": [
        "###Introducing new columns (ie avg of reanalysis and station)\n",
        "\n"
      ]
    },
    {
      "cell_type": "markdown",
      "metadata": {
        "id": "g1zNXMozH1ef",
        "colab_type": "text"
      },
      "source": [
        "Avg of avg reanalysis and avg station temperature:"
      ]
    },
    {
      "cell_type": "code",
      "metadata": {
        "id": "vXm86WlOFPNu",
        "colab_type": "code",
        "colab": {}
      },
      "source": [
        "sj_train[\"reanalysis_avg_temp_c\"]=sj_train[\"reanalysis_avg_temp_k\"]-273.15\n",
        "sj_train[\"avg_reanalyis_station\"]=(sj_train[\"reanalysis_avg_temp_c\"]+sj_train[\"station_avg_temp_c\"])/2\n",
        "\n",
        "\n",
        "\n",
        "iq_train[\"reanalysis_avg_temp_c\"]=iq_train[\"reanalysis_avg_temp_k\"]-273.15\n",
        "iq_train[\"avg_reanalyis_station\"]=(iq_train[\"reanalysis_avg_temp_c\"]+iq_train[\"station_avg_temp_c\"])/2\n",
        "\n",
        "\n"
      ],
      "execution_count": null,
      "outputs": []
    },
    {
      "cell_type": "markdown",
      "metadata": {
        "id": "M97F3_JsIGxQ",
        "colab_type": "text"
      },
      "source": [
        "Avg of max reanalysis temp and max station temp:"
      ]
    },
    {
      "cell_type": "code",
      "metadata": {
        "id": "lQBjJREPHVqJ",
        "colab_type": "code",
        "colab": {}
      },
      "source": [
        "sj_train[\"reanalysis_max_air_temp_c\"]=sj_train[\"reanalysis_max_air_temp_k\"]-273.15\n",
        "sj_train[\"avg_max_reanalyis_station\"]=(sj_train[\"reanalysis_max_air_temp_c\"]+sj_train[\"station_max_temp_c\"])/2\n",
        "\n",
        "\n",
        "iq_train[\"reanalysis_max_air_temp_c\"]=iq_train[\"reanalysis_max_air_temp_k\"]-273.15\n",
        "iq_train[\"avg_max_reanalyis_station\"]=(iq_train[\"reanalysis_max_air_temp_c\"]+iq_train[\"station_max_temp_c\"])/2\n"
      ],
      "execution_count": null,
      "outputs": []
    },
    {
      "cell_type": "markdown",
      "metadata": {
        "id": "USiX7EWehcrg",
        "colab_type": "text"
      },
      "source": [
        "Avg of reanalysis precipitation and station precipitation:"
      ]
    },
    {
      "cell_type": "code",
      "metadata": {
        "id": "5YLhA2auhc2D",
        "colab_type": "code",
        "colab": {}
      },
      "source": [
        "sj_train[\"avg_prep_reanalyis_station\"]=(sj_train[\"station_precip_mm\"]+sj_train[\"reanalysis_sat_precip_amt_mm\"])/2\n",
        "\n",
        "iq_train[\"avg_prep_reanalyis_station\"]=(iq_train[\"station_precip_mm\"]+iq_train[\"reanalysis_sat_precip_amt_mm\"])/2\n"
      ],
      "execution_count": null,
      "outputs": []
    },
    {
      "cell_type": "markdown",
      "metadata": {
        "id": "Zt04-OxAHt1Q",
        "colab_type": "text"
      },
      "source": [
        "### **Random forest: Looping through each lag variables and finding the best lag number by random forest model building** (optional)"
      ]
    },
    {
      "cell_type": "markdown",
      "metadata": {
        "id": "mcxeb2Aadxvv",
        "colab_type": "text"
      },
      "source": [
        "**lag** (Looping through each variable for generating lag) (specially for training purpose)"
      ]
    },
    {
      "cell_type": "markdown",
      "metadata": {
        "id": "vgUCF3ZfLp3U",
        "colab_type": "text"
      },
      "source": [
        "Avg temp"
      ]
    },
    {
      "cell_type": "code",
      "metadata": {
        "id": "ILvhHN4vZ6UB",
        "colab_type": "code",
        "colab": {}
      },
      "source": [
        "for i in range (1,21):\n",
        "  col_name=str('avg_temp_lag_'+str(i))\n",
        "  sj_train[col_name]=lag(sj_train[\"avg_reanalyis_station\"],i).bfill()\n",
        "  # sj_train[col_name]=sj_train[col_name].fillna(np.mean(sj_train[col_name]))\n",
        "\n",
        "for i in range (1,21):\n",
        "  col_name=str('avg_temp_lag_'+str(i))\n",
        "  iq_train[col_name]=lag(iq_train[\"avg_reanalyis_station\"],i).bfill()\n",
        "  # iq_train[col_name]=iq_train[col_name].fillna(np.mean(iq_train[col_name]))"
      ],
      "execution_count": null,
      "outputs": []
    },
    {
      "cell_type": "markdown",
      "metadata": {
        "id": "9EH9tLt1LsgR",
        "colab_type": "text"
      },
      "source": [
        "Max temp"
      ]
    },
    {
      "cell_type": "code",
      "metadata": {
        "id": "JgUmnefgcHdl",
        "colab_type": "code",
        "colab": {}
      },
      "source": [
        "for i in range (1,21):\n",
        "  col_name=str('max_temp_lag_'+str(i))\n",
        "  sj_train[col_name]=lag(sj_train[\"avg_max_reanalyis_station\"],i).bfill()\n",
        "  # sj_train[col_name]=sj_train[col_name].fillna(np.mean(sj_train[col_name]))\n",
        "\n",
        "for i in range (1,21):\n",
        "  col_name=str('max_temp_lag_'+str(i))\n",
        "  iq_train[col_name]=lag(iq_train[\"avg_max_reanalyis_station\"],i).bfill()\n",
        "  # iq_train[col_name]=iq_train[col_name].fillna(np.mean(iq_train[col_name]))"
      ],
      "execution_count": null,
      "outputs": []
    },
    {
      "cell_type": "markdown",
      "metadata": {
        "id": "D60ipt0_L0Iv",
        "colab_type": "text"
      },
      "source": [
        "Specific humidity"
      ]
    },
    {
      "cell_type": "code",
      "metadata": {
        "id": "X9SYOxalLzWC",
        "colab_type": "code",
        "colab": {}
      },
      "source": [
        "for i in range (1,21):\n",
        "  col_name=str('specific_lag_'+str(i))\n",
        "  sj_train[col_name]=lag(sj_train[\"reanalysis_specific_humidity_g_per_kg\"],i).bfill()\n",
        "  # sj_train[col_name]=sj_train[col_name].fillna(np.mean(sj_train[col_name]))\n",
        "\n",
        "for i in range (1,21):\n",
        "  col_name=str('specific_lag_'+str(i))\n",
        "  iq_train[col_name]=lag(iq_train[\"reanalysis_specific_humidity_g_per_kg\"],i).bfill()\n",
        "  # iq_train[col_name]=iq_train[col_name].fillna(np.mean(iq_train[col_name]))"
      ],
      "execution_count": null,
      "outputs": []
    },
    {
      "cell_type": "markdown",
      "metadata": {
        "id": "V4rcCs0Qgy39",
        "colab_type": "text"
      },
      "source": [
        "Precipitation lag"
      ]
    },
    {
      "cell_type": "code",
      "metadata": {
        "id": "bQD9FG2mkxK7",
        "colab_type": "code",
        "colab": {}
      },
      "source": [
        "for i in range (1,53):\n",
        "  col_name=str('prep_lag_'+str(i))\n",
        "  sj_train[col_name]=lag(sj_train[\"avg_prep_reanalyis_station\"],i).bfill()\n",
        "  # sj_train[col_name]=sj_train[col_name].fillna(np.mean(sj_train[col_name]))\n",
        "\n",
        "for i in range (1,53):\n",
        "  col_name=str('prep_lag_'+str(i))\n",
        "  iq_train[col_name]=lag(iq_train[\"avg_prep_reanalyis_station\"],i).bfill()\n",
        "  # iq_train[col_name]=iq_train[col_name].fillna(np.mean(iq_train[col_name]))"
      ],
      "execution_count": null,
      "outputs": []
    },
    {
      "cell_type": "markdown",
      "metadata": {
        "id": "T09P_fyFYUBX",
        "colab_type": "text"
      },
      "source": [
        "Sampling"
      ]
    },
    {
      "cell_type": "code",
      "metadata": {
        "id": "3EZzqsxdUlnZ",
        "colab_type": "code",
        "colab": {}
      },
      "source": [
        "sj_train_subtrain = sj_train.head(832)\n",
        "sj_train_subtest = sj_train.tail(sj_train.shape[0] - 832)\n",
        "\n",
        "iq_train_subtrain = iq_train.head(468)\n",
        "iq_train_subtest = iq_train.tail(iq_train.shape[0] - 468)"
      ],
      "execution_count": null,
      "outputs": []
    },
    {
      "cell_type": "code",
      "metadata": {
        "id": "wDvULdisU7Tx",
        "colab_type": "code",
        "colab": {
          "base_uri": "https://localhost:8080/",
          "height": 265
        },
        "outputId": "88dee4f5-3448-4f93-acf3-fec137e53d18"
      },
      "source": [
        "sj_train_subtrain.filter(like=\"prep\").columns"
      ],
      "execution_count": null,
      "outputs": [
        {
          "output_type": "execute_result",
          "data": {
            "text/plain": [
              "Index(['avg_prep_reanalyis_station', 'prep_lag_1', 'prep_lag_2', 'prep_lag_3',\n",
              "       'prep_lag_4', 'prep_lag_5', 'prep_lag_6', 'prep_lag_7', 'prep_lag_8',\n",
              "       'prep_lag_9', 'prep_lag_10', 'prep_lag_11', 'prep_lag_12',\n",
              "       'prep_lag_13', 'prep_lag_14', 'prep_lag_15', 'prep_lag_16',\n",
              "       'prep_lag_17', 'prep_lag_18', 'prep_lag_19', 'prep_lag_20',\n",
              "       'prep_lag_21', 'prep_lag_22', 'prep_lag_23', 'prep_lag_24',\n",
              "       'prep_lag_25', 'prep_lag_26', 'prep_lag_27', 'prep_lag_28',\n",
              "       'prep_lag_29', 'prep_lag_30', 'prep_lag_31', 'prep_lag_32',\n",
              "       'prep_lag_33', 'prep_lag_34', 'prep_lag_35', 'prep_lag_36',\n",
              "       'prep_lag_37', 'prep_lag_38', 'prep_lag_39', 'prep_lag_40',\n",
              "       'prep_lag_41', 'prep_lag_42', 'prep_lag_43', 'prep_lag_44',\n",
              "       'prep_lag_45', 'prep_lag_46', 'prep_lag_47', 'prep_lag_48',\n",
              "       'prep_lag_49', 'prep_lag_50', 'prep_lag_51', 'prep_lag_52'],\n",
              "      dtype='object')"
            ]
          },
          "metadata": {
            "tags": []
          },
          "execution_count": 29
        }
      ]
    },
    {
      "cell_type": "markdown",
      "metadata": {
        "id": "pdc1qLp3ZTNW",
        "colab_type": "text"
      },
      "source": [
        "Random forest SJ"
      ]
    },
    {
      "cell_type": "code",
      "metadata": {
        "id": "rDsUUpTR93ae",
        "colab_type": "code",
        "colab": {}
      },
      "source": [
        "model_cols=['prep_lag_10',\"specific_lag_9\",\"max_temp_lag_1\",\"avg_temp_lag_10\"]\n",
        "# model_cols=[ ]\n",
        "y_cols=[\"total_cases\"]       "
      ],
      "execution_count": null,
      "outputs": []
    },
    {
      "cell_type": "code",
      "metadata": {
        "id": "Xu7E1kDfUjqJ",
        "colab_type": "code",
        "colab": {
          "base_uri": "https://localhost:8080/",
          "height": 196
        },
        "outputId": "7bbff121-c2f0-4dd9-f6fe-81d4eada7d5f"
      },
      "source": [
        "from sklearn.ensemble import RandomForestRegressor\n",
        "from sklearn.metrics import mean_absolute_error\n",
        "regr = RandomForestRegressor(max_depth=5, random_state=0)\n",
        "regr.fit(sj_train_subtrain[model_cols],sj_train_subtrain[y_cols])"
      ],
      "execution_count": null,
      "outputs": [
        {
          "output_type": "stream",
          "text": [
            "/usr/local/lib/python3.6/dist-packages/ipykernel_launcher.py:4: DataConversionWarning: A column-vector y was passed when a 1d array was expected. Please change the shape of y to (n_samples,), for example using ravel().\n",
            "  after removing the cwd from sys.path.\n"
          ],
          "name": "stderr"
        },
        {
          "output_type": "execute_result",
          "data": {
            "text/plain": [
              "RandomForestRegressor(bootstrap=True, ccp_alpha=0.0, criterion='mse',\n",
              "                      max_depth=5, max_features='auto', max_leaf_nodes=None,\n",
              "                      max_samples=None, min_impurity_decrease=0.0,\n",
              "                      min_impurity_split=None, min_samples_leaf=1,\n",
              "                      min_samples_split=2, min_weight_fraction_leaf=0.0,\n",
              "                      n_estimators=100, n_jobs=None, oob_score=False,\n",
              "                      random_state=0, verbose=0, warm_start=False)"
            ]
          },
          "metadata": {
            "tags": []
          },
          "execution_count": 31
        }
      ]
    },
    {
      "cell_type": "code",
      "metadata": {
        "id": "eHDTLPvDVpxa",
        "colab_type": "code",
        "colab": {
          "base_uri": "https://localhost:8080/",
          "height": 34
        },
        "outputId": "48ea60fd-fc5b-4648-9e91-87e4e7d38a61"
      },
      "source": [
        "predictions=regr.predict(sj_train_subtest[model_cols])\n",
        "mean_absolute_error(sj_train_subtest[y_cols],predictions)"
      ],
      "execution_count": null,
      "outputs": [
        {
          "output_type": "execute_result",
          "data": {
            "text/plain": [
              "23.55708174546328"
            ]
          },
          "metadata": {
            "tags": []
          },
          "execution_count": 32
        }
      ]
    },
    {
      "cell_type": "code",
      "metadata": {
        "id": "xXC0vMPxW8V0",
        "colab_type": "code",
        "colab": {}
      },
      "source": [
        "feature_importances = pd.DataFrame(regr.feature_importances_, index = sj_train_subtrain[model_cols].columns, columns=['importance']).sort_values('importance', ascending=False)"
      ],
      "execution_count": null,
      "outputs": []
    },
    {
      "cell_type": "code",
      "metadata": {
        "id": "UhPSLYAvXwTl",
        "colab_type": "code",
        "colab": {
          "base_uri": "https://localhost:8080/",
          "height": 167
        },
        "outputId": "9fe96efe-107a-4229-99ff-f1a085d27fce"
      },
      "source": [
        "feature_importances"
      ],
      "execution_count": null,
      "outputs": [
        {
          "output_type": "execute_result",
          "data": {
            "text/html": [
              "<div>\n",
              "<style scoped>\n",
              "    .dataframe tbody tr th:only-of-type {\n",
              "        vertical-align: middle;\n",
              "    }\n",
              "\n",
              "    .dataframe tbody tr th {\n",
              "        vertical-align: top;\n",
              "    }\n",
              "\n",
              "    .dataframe thead th {\n",
              "        text-align: right;\n",
              "    }\n",
              "</style>\n",
              "<table border=\"1\" class=\"dataframe\">\n",
              "  <thead>\n",
              "    <tr style=\"text-align: right;\">\n",
              "      <th></th>\n",
              "      <th>importance</th>\n",
              "    </tr>\n",
              "  </thead>\n",
              "  <tbody>\n",
              "    <tr>\n",
              "      <th>avg_temp_lag_10</th>\n",
              "      <td>0.353031</td>\n",
              "    </tr>\n",
              "    <tr>\n",
              "      <th>specific_lag_9</th>\n",
              "      <td>0.291258</td>\n",
              "    </tr>\n",
              "    <tr>\n",
              "      <th>max_temp_lag_1</th>\n",
              "      <td>0.250369</td>\n",
              "    </tr>\n",
              "    <tr>\n",
              "      <th>prep_lag_10</th>\n",
              "      <td>0.105341</td>\n",
              "    </tr>\n",
              "  </tbody>\n",
              "</table>\n",
              "</div>"
            ],
            "text/plain": [
              "                 importance\n",
              "avg_temp_lag_10    0.353031\n",
              "specific_lag_9     0.291258\n",
              "max_temp_lag_1     0.250369\n",
              "prep_lag_10        0.105341"
            ]
          },
          "metadata": {
            "tags": []
          },
          "execution_count": 34
        }
      ]
    },
    {
      "cell_type": "markdown",
      "metadata": {
        "id": "vAJx2JCRZg-t",
        "colab_type": "text"
      },
      "source": [
        "Random forest IQ"
      ]
    },
    {
      "cell_type": "code",
      "metadata": {
        "colab_type": "code",
        "id": "w1M4Gs_UZgBZ",
        "colab": {}
      },
      "source": [
        "model_cols=[ \"specific_lag_1\",\"max_temp_lag_6\",\"avg_temp_lag_10\",\"prep_lag_29\"]\n",
        "\n",
        "model_cols=[]\n",
        "     \n",
        "y_cols=[\"total_cases\"]       "
      ],
      "execution_count": null,
      "outputs": []
    },
    {
      "cell_type": "code",
      "metadata": {
        "colab_type": "code",
        "id": "nwUWzRF6ZgBh",
        "colab": {
          "base_uri": "https://localhost:8080/",
          "height": 405
        },
        "outputId": "8c03202e-1dcc-4ed4-d292-cb29e16b8d3b"
      },
      "source": [
        "from sklearn.ensemble import RandomForestRegressor\n",
        "from sklearn.metrics import mean_absolute_error\n",
        "regr = RandomForestRegressor(max_depth=5, random_state=0)\n",
        "regr.fit(iq_train_subtrain[model_cols],iq_train_subtrain[y_cols])"
      ],
      "execution_count": null,
      "outputs": [
        {
          "output_type": "error",
          "ename": "ValueError",
          "evalue": "ignored",
          "traceback": [
            "\u001b[0;31m---------------------------------------------------------------------------\u001b[0m",
            "\u001b[0;31mValueError\u001b[0m                                Traceback (most recent call last)",
            "\u001b[0;32m<ipython-input-38-af23bdfd5511>\u001b[0m in \u001b[0;36m<module>\u001b[0;34m()\u001b[0m\n\u001b[1;32m      2\u001b[0m \u001b[0;32mfrom\u001b[0m \u001b[0msklearn\u001b[0m\u001b[0;34m.\u001b[0m\u001b[0mmetrics\u001b[0m \u001b[0;32mimport\u001b[0m \u001b[0mmean_absolute_error\u001b[0m\u001b[0;34m\u001b[0m\u001b[0;34m\u001b[0m\u001b[0m\n\u001b[1;32m      3\u001b[0m \u001b[0mregr\u001b[0m \u001b[0;34m=\u001b[0m \u001b[0mRandomForestRegressor\u001b[0m\u001b[0;34m(\u001b[0m\u001b[0mmax_depth\u001b[0m\u001b[0;34m=\u001b[0m\u001b[0;36m5\u001b[0m\u001b[0;34m,\u001b[0m \u001b[0mrandom_state\u001b[0m\u001b[0;34m=\u001b[0m\u001b[0;36m0\u001b[0m\u001b[0;34m)\u001b[0m\u001b[0;34m\u001b[0m\u001b[0;34m\u001b[0m\u001b[0m\n\u001b[0;32m----> 4\u001b[0;31m \u001b[0mregr\u001b[0m\u001b[0;34m.\u001b[0m\u001b[0mfit\u001b[0m\u001b[0;34m(\u001b[0m\u001b[0miq_train_subtrain\u001b[0m\u001b[0;34m[\u001b[0m\u001b[0mmodel_cols\u001b[0m\u001b[0;34m]\u001b[0m\u001b[0;34m,\u001b[0m\u001b[0miq_train_subtrain\u001b[0m\u001b[0;34m[\u001b[0m\u001b[0my_cols\u001b[0m\u001b[0;34m]\u001b[0m\u001b[0;34m)\u001b[0m\u001b[0;34m\u001b[0m\u001b[0;34m\u001b[0m\u001b[0m\n\u001b[0m",
            "\u001b[0;32m/usr/local/lib/python3.6/dist-packages/sklearn/ensemble/_forest.py\u001b[0m in \u001b[0;36mfit\u001b[0;34m(self, X, y, sample_weight)\u001b[0m\n\u001b[1;32m    293\u001b[0m         \"\"\"\n\u001b[1;32m    294\u001b[0m         \u001b[0;31m# Validate or convert input data\u001b[0m\u001b[0;34m\u001b[0m\u001b[0;34m\u001b[0m\u001b[0;34m\u001b[0m\u001b[0m\n\u001b[0;32m--> 295\u001b[0;31m         \u001b[0mX\u001b[0m \u001b[0;34m=\u001b[0m \u001b[0mcheck_array\u001b[0m\u001b[0;34m(\u001b[0m\u001b[0mX\u001b[0m\u001b[0;34m,\u001b[0m \u001b[0maccept_sparse\u001b[0m\u001b[0;34m=\u001b[0m\u001b[0;34m\"csc\"\u001b[0m\u001b[0;34m,\u001b[0m \u001b[0mdtype\u001b[0m\u001b[0;34m=\u001b[0m\u001b[0mDTYPE\u001b[0m\u001b[0;34m)\u001b[0m\u001b[0;34m\u001b[0m\u001b[0;34m\u001b[0m\u001b[0m\n\u001b[0m\u001b[1;32m    296\u001b[0m         \u001b[0my\u001b[0m \u001b[0;34m=\u001b[0m \u001b[0mcheck_array\u001b[0m\u001b[0;34m(\u001b[0m\u001b[0my\u001b[0m\u001b[0;34m,\u001b[0m \u001b[0maccept_sparse\u001b[0m\u001b[0;34m=\u001b[0m\u001b[0;34m'csc'\u001b[0m\u001b[0;34m,\u001b[0m \u001b[0mensure_2d\u001b[0m\u001b[0;34m=\u001b[0m\u001b[0;32mFalse\u001b[0m\u001b[0;34m,\u001b[0m \u001b[0mdtype\u001b[0m\u001b[0;34m=\u001b[0m\u001b[0;32mNone\u001b[0m\u001b[0;34m)\u001b[0m\u001b[0;34m\u001b[0m\u001b[0;34m\u001b[0m\u001b[0m\n\u001b[1;32m    297\u001b[0m         \u001b[0;32mif\u001b[0m \u001b[0msample_weight\u001b[0m \u001b[0;32mis\u001b[0m \u001b[0;32mnot\u001b[0m \u001b[0;32mNone\u001b[0m\u001b[0;34m:\u001b[0m\u001b[0;34m\u001b[0m\u001b[0;34m\u001b[0m\u001b[0m\n",
            "\u001b[0;32m/usr/local/lib/python3.6/dist-packages/sklearn/utils/validation.py\u001b[0m in \u001b[0;36mcheck_array\u001b[0;34m(array, accept_sparse, accept_large_sparse, dtype, order, copy, force_all_finite, ensure_2d, allow_nd, ensure_min_samples, ensure_min_features, warn_on_dtype, estimator)\u001b[0m\n\u001b[1;32m    473\u001b[0m \u001b[0;34m\u001b[0m\u001b[0m\n\u001b[1;32m    474\u001b[0m         \u001b[0;32mif\u001b[0m \u001b[0mall\u001b[0m\u001b[0;34m(\u001b[0m\u001b[0misinstance\u001b[0m\u001b[0;34m(\u001b[0m\u001b[0mdtype\u001b[0m\u001b[0;34m,\u001b[0m \u001b[0mnp\u001b[0m\u001b[0;34m.\u001b[0m\u001b[0mdtype\u001b[0m\u001b[0;34m)\u001b[0m \u001b[0;32mfor\u001b[0m \u001b[0mdtype\u001b[0m \u001b[0;32min\u001b[0m \u001b[0mdtypes_orig\u001b[0m\u001b[0;34m)\u001b[0m\u001b[0;34m:\u001b[0m\u001b[0;34m\u001b[0m\u001b[0;34m\u001b[0m\u001b[0m\n\u001b[0;32m--> 475\u001b[0;31m             \u001b[0mdtype_orig\u001b[0m \u001b[0;34m=\u001b[0m \u001b[0mnp\u001b[0m\u001b[0;34m.\u001b[0m\u001b[0mresult_type\u001b[0m\u001b[0;34m(\u001b[0m\u001b[0;34m*\u001b[0m\u001b[0mdtypes_orig\u001b[0m\u001b[0;34m)\u001b[0m\u001b[0;34m\u001b[0m\u001b[0;34m\u001b[0m\u001b[0m\n\u001b[0m\u001b[1;32m    476\u001b[0m \u001b[0;34m\u001b[0m\u001b[0m\n\u001b[1;32m    477\u001b[0m     \u001b[0;32mif\u001b[0m \u001b[0mdtype_numeric\u001b[0m\u001b[0;34m:\u001b[0m\u001b[0;34m\u001b[0m\u001b[0;34m\u001b[0m\u001b[0m\n",
            "\u001b[0;32m<__array_function__ internals>\u001b[0m in \u001b[0;36mresult_type\u001b[0;34m(*args, **kwargs)\u001b[0m\n",
            "\u001b[0;31mValueError\u001b[0m: at least one array or dtype is required"
          ]
        }
      ]
    },
    {
      "cell_type": "code",
      "metadata": {
        "colab_type": "code",
        "id": "cKGY8xesZgBk",
        "colab": {}
      },
      "source": [
        "predictions=regr.predict(iq_train_subtest[model_cols])\n",
        "mean_absolute_error(iq_train_subtest[y_cols],predictions)"
      ],
      "execution_count": null,
      "outputs": []
    },
    {
      "cell_type": "code",
      "metadata": {
        "colab_type": "code",
        "id": "1iGZHz2LZgBm",
        "colab": {}
      },
      "source": [
        "feature_importances = pd.DataFrame(regr.feature_importances_, index = iq_train_subtrain[model_cols].columns, columns=['importance']).sort_values('importance', ascending=False)"
      ],
      "execution_count": null,
      "outputs": []
    },
    {
      "cell_type": "code",
      "metadata": {
        "colab_type": "code",
        "id": "7zbyLvmqZgBn",
        "colab": {}
      },
      "source": [
        "feature_importances"
      ],
      "execution_count": null,
      "outputs": []
    },
    {
      "cell_type": "markdown",
      "metadata": {
        "id": "cVTmQDHYYVD0",
        "colab_type": "text"
      },
      "source": [
        "###**Original Model Building With Specific Variables**"
      ]
    },
    {
      "cell_type": "markdown",
      "metadata": {
        "id": "WCYmCpNUa550",
        "colab_type": "text"
      },
      "source": [
        "Required lag (select the best lag variables from random forest and add the final variables here for running final NBM)"
      ]
    },
    {
      "cell_type": "code",
      "metadata": {
        "id": "ukuldsGtZsma",
        "colab_type": "code",
        "colab": {}
      },
      "source": [
        "sj_train[\"max_temp_lag_1\"]=lag(sj_train[\"max_temp\"],1).bfill()\n",
        "\n",
        "sj_train[\"avg_temp_lag_10\"]=lag(sj_train[\"avg_temp\"],10).bfill()\n",
        "\n",
        "sj_train[\"specific_lag_9\"]=lag(sj_train[\"reanalysis_specific_humidity_g_per_kg\"],9).bfill()\n",
        "\n",
        "sj_train[\"prep_lag_10\"]=lag(sj_train[\"prep_avg\"],10).bfill()\n",
        "\n",
        "# #####################################\n",
        "\n",
        "iq_train[\"max_temp_lag_6\"]=lag(iq_train[\"max_temp\"],6).bfill()\n",
        "\n",
        "iq_train[\"specific_lag_1\"]=lag(iq_train[\"reanalysis_specific_humidity_g_per_kg\"],3).bfill()\n",
        "\n",
        "iq_train[\"avg_temp_lag_10\"]=lag(iq_train[\"avg_temp\"],10).bfill()\n",
        "\n",
        "iq_train[\"prep_lag_29\"]=lag(iq_train[\"prep_avg\"],29).bfill()\n",
        "\n"
      ],
      "execution_count": null,
      "outputs": []
    },
    {
      "cell_type": "code",
      "metadata": {
        "id": "0erpE8sAf-ze",
        "colab_type": "code",
        "colab": {}
      },
      "source": [
        ""
      ],
      "execution_count": null,
      "outputs": []
    },
    {
      "cell_type": "markdown",
      "metadata": {
        "id": "2TgWM36Geq9F",
        "colab_type": "text"
      },
      "source": [
        "Check correlation for the decided variable"
      ]
    },
    {
      "cell_type": "code",
      "metadata": {
        "id": "0nG4i9fyRF89",
        "colab_type": "code",
        "colab": {
          "base_uri": "https://localhost:8080/",
          "height": 176
        },
        "outputId": "2c90f821-13ef-42e7-995c-6a7d332d618b"
      },
      "source": [
        "print(\"SJ RC: \",sj_train['total_cases_smooth'].corr(sj_train['avg_temp_lag_10'],method='spearman'))\n",
        "print(\"SJ RC: \",sj_train['total_cases_smooth'].corr(sj_train['specific_lag_9'],method='spearman'))\n",
        "print(\"SJ RC: \",sj_train['total_cases_smooth'].corr(sj_train['max_temp_lag_1'],method='spearman'))\n",
        "print(\"SJ RC: \",sj_train['total_cases_smooth'].corr(sj_train['prep_lag_10'],method='spearman'))\n",
        "\n",
        "\n",
        "\n",
        "\n",
        "print(\"**********************\")\n",
        "\n",
        "\n",
        "\n",
        "print(\"IQ RC: \",iq_train['total_cases_smooth'].corr(iq_train['reanalysis_specific_humidity_g_per_kg'],method='spearman'))\n",
        "print(\"IQ RC: \",iq_train['total_cases_smooth'].corr(iq_train['max_temp_lag_6'],method='spearman'))\n",
        "print(\"IQ RC: \",iq_train['specific_lag_1'].corr(iq_train['avg_temp_lag_10'],method='spearman'))\n",
        "print(\"SJ RC: \",iq_train['total_cases_smooth'].corr(iq_train['prep_lag_29'],method='spearman')) \n",
        "\n",
        "\n"
      ],
      "execution_count": null,
      "outputs": [
        {
          "output_type": "stream",
          "text": [
            "SJ RC:  0.530596800821392\n",
            "SJ RC:  0.5345470163401863\n",
            "SJ RC:  0.22397782424265586\n",
            "SJ RC:  0.24141899580709997\n",
            "**********************\n",
            "IQ RC:  0.28678027675457074\n",
            "IQ RC:  0.12076530919013292\n",
            "IQ RC:  0.5356705871342434\n",
            "SJ RC:  -0.057056655655729246\n"
          ],
          "name": "stdout"
        }
      ]
    },
    {
      "cell_type": "code",
      "metadata": {
        "id": "YT16kGYzgYPY",
        "colab_type": "code",
        "colab": {}
      },
      "source": [
        "#Actual data correlations wrt to above\n",
        "# SJ RC:  0.5300895177120859\n",
        "# SJ RC:  0.5324144777280944\n",
        "# SJ RC:  0.22426434367840467\n",
        "# SJ RC:  0.23411603314622462\n",
        "# **********************\n",
        "# IQ RC:  0.3543661113355642\n",
        "# IQ RC:  0.027360719187521358\n",
        "# IQ RC:  0.4436682224144424\n",
        "# SJ RC:  0.08627992807279407"
      ],
      "execution_count": null,
      "outputs": []
    },
    {
      "cell_type": "code",
      "metadata": {
        "id": "czudfcjUhoQ7",
        "colab_type": "code",
        "colab": {
          "base_uri": "https://localhost:8080/",
          "height": 34
        },
        "outputId": "04b76447-39b9-431b-84c4-c4903750c320"
      },
      "source": [
        "len(iq_train)"
      ],
      "execution_count": null,
      "outputs": [
        {
          "output_type": "execute_result",
          "data": {
            "text/plain": [
              "442"
            ]
          },
          "metadata": {
            "tags": []
          },
          "execution_count": 30
        }
      ]
    },
    {
      "cell_type": "markdown",
      "metadata": {
        "id": "6RXOVeCwKSvB",
        "colab_type": "text"
      },
      "source": [
        "Sampling"
      ]
    },
    {
      "cell_type": "code",
      "metadata": {
        "id": "2hidJ_e0KR-K",
        "colab_type": "code",
        "colab": {}
      },
      "source": [
        "sj_train_subtrain = sj_train.head(832)\n",
        "sj_train_subtest = sj_train.tail(sj_train.shape[0] - 832)\n",
        "\n",
        "iq_train_subtrain = iq_train.head(390)\n",
        "iq_train_subtest = iq_train.tail(iq_train.shape[0] - 390)"
      ],
      "execution_count": null,
      "outputs": []
    },
    {
      "cell_type": "markdown",
      "metadata": {
        "id": "Q2x-Ci8bAjRM",
        "colab_type": "text"
      },
      "source": [
        "**Negative binomial model**"
      ]
    },
    {
      "cell_type": "markdown",
      "metadata": {
        "id": "59ihv18F5kV3",
        "colab_type": "text"
      },
      "source": [
        "**Model with 5 variables :** total_cases ~ 1 + station_min_temp_c  + reanalysis_dew_point_temp_k + station_precip_mm  + reanalysis_specific_humidity_g_per_kg + month\n",
        "\n",
        "**Model with 4 variables :** total_cases ~ 1 + station_min_temp_c  + reanalysis_dew_point_temp_k + reanalysis_specific_humidity_g_per_kg + month\n",
        "\n",
        "**(3rd BEST MODEL TILL NOW) Model with 3 variables (25.71) :** total_cases ~ 1 + station_min_temp_c  + reanalysis_dew_point_temp_k + reanalysis_specific_humidity_g_per_kg \n",
        "\n",
        "**(4th BEST MODEL TILL NOW) Model with 3 variables + precipitation_lag_2(only for sj) (25.77) :**\n",
        "\n",
        "  1.sj------>total_cases ~ 1 + station_min_temp_c  + reanalysis_dew_point_temp_k + reanalysis_specific_humidity_g_per_kg +prep_lag_2\n",
        "\n",
        "  2.iq------>total_cases ~ 1 + station_min_temp_c  + reanalysis_dew_point_temp_k + reanalysis_specific_humidity_g_per_kg\n",
        "\n",
        "**(2nd BEST MODEL TILL NOW) Model with 3 variables in sj(all lag_1)  (25.57) :**\n",
        "\n",
        "total_cases ~ 1  + temp_lag_1 +  dew_lag_1 + specific_lag_1\n",
        "\n",
        "**(BEST MODEL TILL NOW) Model with 3 variables in sj and iq(all lag_1)  (25.53) :**\n",
        "\n",
        "total_cases ~ 1  + temp_lag_1 +  dew_lag_1 + specific_lag_1\n",
        "\n",
        "\n",
        "**Final model:**\n",
        "\n",
        "sj ~ model_formula = total_cases ~ 1   + specific_lag_9 + max_temp_lag_1  + avg_temp_lag_10\n",
        "\n",
        "iq ~ model_formula = total_cases ~ 1 + specific_lag_1 + max_temp_lag_6 + avg_temp_lag_10 +  prerp_lag_29"
      ]
    },
    {
      "cell_type": "code",
      "metadata": {
        "id": "85WR7NON3wY7",
        "colab_type": "code",
        "colab": {
          "base_uri": "https://localhost:8080/",
          "height": 212
        },
        "outputId": "fbbf20bf-870f-4ec4-c3c3-495d2e36afe8"
      },
      "source": [
        "#Binomial model\n",
        "model_formula = \"\"\" total_cases ~ 1   + specific_lag_9 + max_temp_lag_1 + avg_temp_lag_10 + prep_lag_10 \"\"\" \n",
        "model = smf.glm(formula=model_formula,\n",
        "                        data=sj_train_subtrain,\n",
        "                        family=sm.families.Binomial())\n",
        "\n",
        "results = model.fit()\n",
        "predictions = results.predict(sj_train_subtest).astype(int)\n",
        "score = eval_measures.meanabs(predictions, sj_train_subtest.total_cases)\n",
        "\n",
        "print(score)\n",
        "  "
      ],
      "execution_count": null,
      "outputs": [
        {
          "output_type": "stream",
          "text": [
            "23.115384615384617\n"
          ],
          "name": "stdout"
        },
        {
          "output_type": "stream",
          "text": [
            "/usr/local/lib/python3.6/dist-packages/statsmodels/genmod/families/links.py:190: RuntimeWarning: overflow encountered in exp\n",
            "  t = np.exp(-z)\n",
            "/usr/local/lib/python3.6/dist-packages/statsmodels/genmod/families/family.py:889: RuntimeWarning: divide by zero encountered in true_divide\n",
            "  endog_mu = self._clean(endog / mu)\n",
            "/usr/local/lib/python3.6/dist-packages/statsmodels/genmod/families/family.py:889: RuntimeWarning: invalid value encountered in true_divide\n",
            "  endog_mu = self._clean(endog / mu)\n",
            "/usr/local/lib/python3.6/dist-packages/statsmodels/genmod/families/family.py:890: RuntimeWarning: divide by zero encountered in true_divide\n",
            "  n_endog_mu = self._clean((1. - endog) / (1. - mu))\n",
            "/usr/local/lib/python3.6/dist-packages/statsmodels/genmod/families/family.py:890: RuntimeWarning: invalid value encountered in true_divide\n",
            "  n_endog_mu = self._clean((1. - endog) / (1. - mu))\n"
          ],
          "name": "stderr"
        }
      ]
    },
    {
      "cell_type": "code",
      "metadata": {
        "id": "Nkh0lEcP4c2K",
        "colab_type": "code",
        "colab": {
          "base_uri": "https://localhost:8080/",
          "height": 212
        },
        "outputId": "6e2bb880-f39c-4015-b743-8094bfe3cdf7"
      },
      "source": [
        ""
      ],
      "execution_count": null,
      "outputs": [
        {
          "output_type": "stream",
          "text": [
            "23.115384615384617\n"
          ],
          "name": "stdout"
        },
        {
          "output_type": "stream",
          "text": [
            "/usr/local/lib/python3.6/dist-packages/statsmodels/genmod/families/links.py:190: RuntimeWarning: overflow encountered in exp\n",
            "  t = np.exp(-z)\n",
            "/usr/local/lib/python3.6/dist-packages/statsmodels/genmod/families/family.py:889: RuntimeWarning: divide by zero encountered in true_divide\n",
            "  endog_mu = self._clean(endog / mu)\n",
            "/usr/local/lib/python3.6/dist-packages/statsmodels/genmod/families/family.py:889: RuntimeWarning: invalid value encountered in true_divide\n",
            "  endog_mu = self._clean(endog / mu)\n",
            "/usr/local/lib/python3.6/dist-packages/statsmodels/genmod/families/family.py:890: RuntimeWarning: divide by zero encountered in true_divide\n",
            "  n_endog_mu = self._clean((1. - endog) / (1. - mu))\n",
            "/usr/local/lib/python3.6/dist-packages/statsmodels/genmod/families/family.py:890: RuntimeWarning: invalid value encountered in true_divide\n",
            "  n_endog_mu = self._clean((1. - endog) / (1. - mu))\n"
          ],
          "name": "stderr"
        }
      ]
    },
    {
      "cell_type": "code",
      "metadata": {
        "id": "_unCtstHg0bq",
        "colab_type": "code",
        "colab": {
          "base_uri": "https://localhost:8080/",
          "height": 52
        },
        "outputId": "004a8442-33c7-47d0-afe9-bdfe9bd5c7f2"
      },
      "source": [
        "def get_best_model(train, test):\n",
        "    # Step 1: specify the form of the model\n",
        "    model_formula = \"\"\" total_cases_smooth ~ 1   + specific_lag_9 + max_temp_lag_1 + avg_temp_lag_10  \"\"\"  \n",
        " \n",
        "    \n",
        "    grid = 10 ** np.arange(-8, -3, dtype=np.float64)  \n",
        "                    \n",
        "    best_alpha = []\n",
        "    best_score = 1000\n",
        "        \n",
        "    # Step 2: Find the best hyper parameter, alpha\n",
        "    for alpha in grid:\n",
        "        model = smf.glm(formula=model_formula,\n",
        "                        data=train,\n",
        "                        family=sm.families.NegativeBinomial(alpha=alpha))\n",
        "\n",
        "        results = model.fit()\n",
        "        predictions = results.predict(test).astype(int)\n",
        "        score = eval_measures.meanabs(predictions, test.total_cases)\n",
        "        \n",
        "\n",
        "        if score < best_score:\n",
        "            best_alpha = alpha\n",
        "            best_score = score\n",
        "\n",
        "    print('best alpha = ', best_alpha)\n",
        "    print('best score = ', best_score)\n",
        "            \n",
        "    # Step 3: refit on entire dataset\n",
        "    full_dataset = pd.concat([train, test])\n",
        "    model = smf.glm(formula=model_formula,\n",
        "                    data=full_dataset,\n",
        "                    family=sm.families.NegativeBinomial(alpha=best_alpha))\n",
        "\n",
        "    fitted_model = model.fit()\n",
        "    return fitted_model\n",
        "\n",
        "    \n",
        "sj_best_model = get_best_model(sj_train_subtrain, sj_train_subtest)\n",
        "# iq_best_model = get_best_model(iq_train_subtrain, iq_train_subtest)"
      ],
      "execution_count": null,
      "outputs": [
        {
          "output_type": "stream",
          "text": [
            "best alpha =  1e-08\n",
            "best score =  24.721153846153847\n"
          ],
          "name": "stdout"
        }
      ]
    },
    {
      "cell_type": "code",
      "metadata": {
        "id": "o2z0N1ajIeUB",
        "colab_type": "code",
        "colab": {
          "base_uri": "https://localhost:8080/",
          "height": 372
        },
        "outputId": "e63e1213-be42-4a61-b3f6-637d7520dd26"
      },
      "source": [
        " print(sj_best_model.summary())\n",
        "# print(iq_best_model.summary())"
      ],
      "execution_count": null,
      "outputs": [
        {
          "output_type": "stream",
          "text": [
            "                 Generalized Linear Model Regression Results                  \n",
            "==============================================================================\n",
            "Dep. Variable:     total_cases_smooth   No. Observations:                  936\n",
            "Model:                            GLM   Df Residuals:                      931\n",
            "Model Family:        NegativeBinomial   Df Model:                            4\n",
            "Link Function:                    log   Scale:                          1.0000\n",
            "Method:                          IRLS   Log-Likelihood:                -16421.\n",
            "Date:                Fri, 21 Aug 2020   Deviance:                       28395.\n",
            "Time:                        10:23:04   Pearson chi2:                 4.41e+04\n",
            "No. Iterations:                     6                                         \n",
            "Covariance Type:            nonrobust                                         \n",
            "===================================================================================\n",
            "                      coef    std err          z      P>|z|      [0.025      0.975]\n",
            "-----------------------------------------------------------------------------------\n",
            "Intercept         -11.6826      0.195    -60.021      0.000     -12.064     -11.301\n",
            "specific_lag_9      0.0457      0.009      5.327      0.000       0.029       0.062\n",
            "max_temp_lag_1      0.1503      0.005     33.281      0.000       0.141       0.159\n",
            "avg_temp_lag_10     0.3661      0.010     36.656      0.000       0.347       0.386\n",
            "prep_lag_10         0.0002      0.000      0.751      0.452      -0.000       0.001\n",
            "===================================================================================\n"
          ],
          "name": "stdout"
        }
      ]
    },
    {
      "cell_type": "code",
      "metadata": {
        "id": "rJKEBGvYlsl8",
        "colab_type": "code",
        "colab": {
          "base_uri": "https://localhost:8080/",
          "height": 52
        },
        "outputId": "5cb5b892-6c60-4db0-bad7-7878934b8026"
      },
      "source": [
        "def get_best_model(train, test):\n",
        "    # Step 1: specify the form of the model\n",
        " \n",
        "    model_formula = \"\"\" total_cases_smooth ~ 1 + specific_lag_1 + max_temp_lag_6 + avg_temp_lag_10 + prep_lag_29   \"\"\"  \n",
        "    \n",
        "    grid = 10 ** np.arange(-8, -3, dtype=np.float64)  \n",
        "                    \n",
        "    best_alpha = []\n",
        "    best_score = 1000\n",
        "        \n",
        "    # Step 2: Find the best hyper parameter, alpha\n",
        "    for alpha in grid:\n",
        "        model = smf.glm(formula=model_formula,\n",
        "                        data=train,\n",
        "                        family=sm.families.NegativeBinomial(alpha=alpha))\n",
        "\n",
        "        results = model.fit()\n",
        "        predictions = results.predict(test).astype(int)\n",
        "        score = eval_measures.meanabs(predictions, test.total_cases)\n",
        "\n",
        "        if score < best_score:\n",
        "            best_alpha = alpha\n",
        "            best_score = score\n",
        "\n",
        "    print('best alpha = ', best_alpha)\n",
        "    print('best score = ', best_score)\n",
        "            \n",
        "    # Step 3: refit on entire dataset\n",
        "    full_dataset = pd.concat([train, test])\n",
        "    model = smf.glm(formula=model_formula,\n",
        "                    data=full_dataset,\n",
        "                    family=sm.families.NegativeBinomial(alpha=best_alpha))\n",
        "\n",
        "    fitted_model = model.fit()\n",
        "    return fitted_model\n",
        "    \n",
        "# sj_best_model = get_best_model(sj_train_subtrain, sj_train_subtest)\n",
        "iq_best_model = get_best_model(iq_train_subtrain, iq_train_subtest)"
      ],
      "execution_count": null,
      "outputs": [
        {
          "output_type": "stream",
          "text": [
            "best alpha =  1e-08\n",
            "best score =  6.076923076923077\n"
          ],
          "name": "stdout"
        }
      ]
    },
    {
      "cell_type": "markdown",
      "metadata": {
        "id": "NwI4QWF5l9Dr",
        "colab_type": "text"
      },
      "source": [
        "Plot the predictions w.r.t the original values"
      ]
    },
    {
      "cell_type": "code",
      "metadata": {
        "id": "MgoubwD7lGgx",
        "colab_type": "code",
        "colab": {}
      },
      "source": [
        "sj_train['fitted_3'] = sj_best_model.fittedvalues\n",
        "iq_train['fitted_3'] = iq_best_model.fittedvalues"
      ],
      "execution_count": null,
      "outputs": []
    },
    {
      "cell_type": "code",
      "metadata": {
        "id": "zQC8QuYqjfMe",
        "colab_type": "code",
        "colab": {}
      },
      "source": [
        "# plt.figure(figsize=(35, 15))\n",
        "# plt.plot(sj_train[\"week_start_date\"], sj_train[\"total_cases\"])\n",
        "# # plt.plot(sj_train[\"week_start_date\"], sj_train[\"fitted\"])\n",
        "# # plt.plot(sj_train[\"week_start_date\"], sj_train[\"fitted_1\"],label=\"without_avg_temp\")\n",
        "# plt.plot(sj_train[\"week_start_date\"], sj_train[\"fitted_2\"],label=\"with_avg_temp\",color='r')\n",
        "# plt.plot(sj_train[\"week_start_date\"], sj_train[\"fitted_3\"],label=\"with_avg_prep\",color='g')\n",
        "# ax = plt.gca()\n",
        "# ax.xaxis.set_major_locator(mdates.YearLocator(1, month=1, day=1))\n",
        "# ax.xaxis.set_major_formatter(mdates.DateFormatter('%d-%m-%Y'))\n",
        "\n",
        "# # sj_train.fitted.plot(ax=axes[0], label=\"Predictions\")\n",
        "# # sj_train.total_cases.plot(ax=axes[0], label=\"Actual\")\n",
        "# plt.legend()\n",
        "# plt.show()"
      ],
      "execution_count": null,
      "outputs": []
    },
    {
      "cell_type": "code",
      "metadata": {
        "id": "jOsdcAtpyg8C",
        "colab_type": "code",
        "colab": {}
      },
      "source": [
        ""
      ],
      "execution_count": null,
      "outputs": []
    },
    {
      "cell_type": "code",
      "metadata": {
        "id": "gcr_5g2Gkk9s",
        "colab_type": "code",
        "colab": {}
      },
      "source": [
        "# plt.figure(figsize=(35, 10))\n",
        "# plt.plot(iq_train[\"week_start_date\"], iq_train[\"total_cases\"])\n",
        "# plt.plot(iq_train[\"week_start_date\"], iq_train[\"fitted\"])\n",
        "# # plt.plot(iq_train[\"week_start_date\"], iq_train[\"fitted_1\"])\n",
        "# # plt.plot(iq_train[\"week_start_date\"], iq_train[\"fitted_2\"])\n",
        "# ax = plt.gca()\n",
        "# ax.xaxis.set_major_locator(mdates.YearLocator(1, month=1, day=1))\n",
        "# ax.xaxis.set_major_formatter(mdates.DateFormatter('%d-%m-%Y'))\n",
        "# plt.show()"
      ],
      "execution_count": null,
      "outputs": []
    },
    {
      "cell_type": "code",
      "metadata": {
        "id": "6K2kheKnLeW8",
        "colab_type": "code",
        "colab": {}
      },
      "source": [
        ""
      ],
      "execution_count": null,
      "outputs": []
    },
    {
      "cell_type": "code",
      "metadata": {
        "id": "GRYqSRSiLeTb",
        "colab_type": "code",
        "colab": {}
      },
      "source": [
        ""
      ],
      "execution_count": null,
      "outputs": []
    },
    {
      "cell_type": "code",
      "metadata": {
        "id": "QyVyDCaOLePa",
        "colab_type": "code",
        "colab": {}
      },
      "source": [
        ""
      ],
      "execution_count": null,
      "outputs": []
    },
    {
      "cell_type": "code",
      "metadata": {
        "id": "VIi_m242LeL5",
        "colab_type": "code",
        "colab": {}
      },
      "source": [
        ""
      ],
      "execution_count": null,
      "outputs": []
    },
    {
      "cell_type": "code",
      "metadata": {
        "id": "YKVnPulpLeHv",
        "colab_type": "code",
        "colab": {}
      },
      "source": [
        ""
      ],
      "execution_count": null,
      "outputs": []
    },
    {
      "cell_type": "markdown",
      "metadata": {
        "id": "vnEAnByXLfRV",
        "colab_type": "text"
      },
      "source": [
        "# **TEST DATA**"
      ]
    },
    {
      "cell_type": "markdown",
      "metadata": {
        "id": "ZNCoVTaimPfU",
        "colab_type": "text"
      },
      "source": [
        "Get required train and test data"
      ]
    },
    {
      "cell_type": "code",
      "metadata": {
        "id": "fPxQyK8l7c61",
        "colab_type": "code",
        "colab": {}
      },
      "source": [
        "cols=[\"avg_temp\",\"max_temp\",\"prep_avg\",\"reanalysis_specific_humidity_g_per_kg\"]"
      ],
      "execution_count": null,
      "outputs": []
    },
    {
      "cell_type": "code",
      "metadata": {
        "id": "F6ktpPXT8KjL",
        "colab_type": "code",
        "colab": {}
      },
      "source": [
        "sj_train=sj_train[cols]\n",
        "iq_train=iq_train[cols]"
      ],
      "execution_count": null,
      "outputs": []
    },
    {
      "cell_type": "code",
      "metadata": {
        "id": "A_K1Od0D6pKQ",
        "colab_type": "code",
        "colab": {}
      },
      "source": [
        "sj_train[\"is_test\"]=0\n",
        "iq_train[\"is_test\"]=0"
      ],
      "execution_count": null,
      "outputs": []
    },
    {
      "cell_type": "code",
      "metadata": {
        "id": "xRMlxdTcliJB",
        "colab_type": "code",
        "colab": {}
      },
      "source": [
        "\n",
        "features_used_in_model_sj = [ \"specific_lag_9\",\"max_temp_lag_1\",\"avg_temp_lag_10\"]\n",
        "\n",
        "features_used_in_model_iq = [\"specific_lag_1\",\"max_temp_lag_6\",\"avg_temp_lag_10\",\"prep_lag_29\" ]\n"
      ],
      "execution_count": null,
      "outputs": []
    },
    {
      "cell_type": "code",
      "metadata": {
        "id": "jJCQFYyZmumq",
        "colab_type": "code",
        "colab": {}
      },
      "source": [
        "sj_test_total = pd.read_csv(\"SJ_test_for_model.csv\")\n",
        "iq_test_total = pd.read_csv(\"IQ_test_for_model.csv\")"
      ],
      "execution_count": null,
      "outputs": []
    },
    {
      "cell_type": "code",
      "metadata": {
        "id": "vCmtEB9mpLli",
        "colab_type": "code",
        "colab": {
          "base_uri": "https://localhost:8080/",
          "height": 52
        },
        "outputId": "74da26ee-39cb-4477-ecef-00752a276c07"
      },
      "source": [
        "print(sj_test_total.shape)\n",
        "print(iq_test_total.shape)"
      ],
      "execution_count": null,
      "outputs": [
        {
          "output_type": "stream",
          "text": [
            "(260, 25)\n",
            "(156, 25)\n"
          ],
          "name": "stdout"
        }
      ]
    },
    {
      "cell_type": "markdown",
      "metadata": {
        "colab_type": "text",
        "id": "C2I9ubYCMm9P"
      },
      "source": [
        "###Introducing new columns (ie avg of reanalysis and station)\n",
        "\n"
      ]
    },
    {
      "cell_type": "markdown",
      "metadata": {
        "colab_type": "text",
        "id": "pYEtRKI1bt3B"
      },
      "source": [
        "Avg of avg reanalysis and avg station temperature"
      ]
    },
    {
      "cell_type": "code",
      "metadata": {
        "colab_type": "code",
        "id": "OCU-8X_4bt3C",
        "colab": {
          "base_uri": "https://localhost:8080/",
          "height": 197
        },
        "outputId": "94e59f37-ef50-4c87-e40f-fa1647a80e69"
      },
      "source": [
        "sj_test_total[\"reanalysis_avg_temp_c\"]=sj_test_total[\"reanalysis_avg_temp_k\"]-273.15\n",
        "sj_test_total[\"avg_temp\"]=(sj_test_total[\"reanalysis_avg_temp_c\"]+sj_test_total[\"station_avg_temp_c\"])/2\n",
        "sj_test_total[[\"reanalysis_avg_temp_c\",\"station_avg_temp_c\",\"avg_temp\"]].head()\n",
        "\n",
        "\n",
        "iq_test_total[\"reanalysis_avg_temp_c\"]=iq_test_total[\"reanalysis_avg_temp_k\"]-273.15\n",
        "iq_test_total[\"avg_temp\"]=(iq_test_total[\"reanalysis_avg_temp_c\"]+iq_test_total[\"station_avg_temp_c\"])/2\n",
        "iq_test_total[[\"reanalysis_avg_temp_c\",\"station_avg_temp_c\",\"avg_temp\"]].head()\n",
        "\n"
      ],
      "execution_count": null,
      "outputs": [
        {
          "output_type": "execute_result",
          "data": {
            "text/html": [
              "<div>\n",
              "<style scoped>\n",
              "    .dataframe tbody tr th:only-of-type {\n",
              "        vertical-align: middle;\n",
              "    }\n",
              "\n",
              "    .dataframe tbody tr th {\n",
              "        vertical-align: top;\n",
              "    }\n",
              "\n",
              "    .dataframe thead th {\n",
              "        text-align: right;\n",
              "    }\n",
              "</style>\n",
              "<table border=\"1\" class=\"dataframe\">\n",
              "  <thead>\n",
              "    <tr style=\"text-align: right;\">\n",
              "      <th></th>\n",
              "      <th>reanalysis_avg_temp_c</th>\n",
              "      <th>station_avg_temp_c</th>\n",
              "      <th>avg_temp</th>\n",
              "    </tr>\n",
              "  </thead>\n",
              "  <tbody>\n",
              "    <tr>\n",
              "      <th>0</th>\n",
              "      <td>26.064286</td>\n",
              "      <td>27.440</td>\n",
              "      <td>26.752143</td>\n",
              "    </tr>\n",
              "    <tr>\n",
              "      <th>1</th>\n",
              "      <td>26.314286</td>\n",
              "      <td>27.025</td>\n",
              "      <td>26.669643</td>\n",
              "    </tr>\n",
              "    <tr>\n",
              "      <th>2</th>\n",
              "      <td>25.814286</td>\n",
              "      <td>26.950</td>\n",
              "      <td>26.382143</td>\n",
              "    </tr>\n",
              "    <tr>\n",
              "      <th>3</th>\n",
              "      <td>23.492857</td>\n",
              "      <td>26.900</td>\n",
              "      <td>25.196429</td>\n",
              "    </tr>\n",
              "    <tr>\n",
              "      <th>4</th>\n",
              "      <td>26.850000</td>\n",
              "      <td>27.050</td>\n",
              "      <td>26.950000</td>\n",
              "    </tr>\n",
              "  </tbody>\n",
              "</table>\n",
              "</div>"
            ],
            "text/plain": [
              "   reanalysis_avg_temp_c  station_avg_temp_c   avg_temp\n",
              "0              26.064286              27.440  26.752143\n",
              "1              26.314286              27.025  26.669643\n",
              "2              25.814286              26.950  26.382143\n",
              "3              23.492857              26.900  25.196429\n",
              "4              26.850000              27.050  26.950000"
            ]
          },
          "metadata": {
            "tags": []
          },
          "execution_count": 99
        }
      ]
    },
    {
      "cell_type": "markdown",
      "metadata": {
        "colab_type": "text",
        "id": "h8e9GodNbt3G"
      },
      "source": [
        "Avg of max reanalysis temp and max station temp"
      ]
    },
    {
      "cell_type": "code",
      "metadata": {
        "colab_type": "code",
        "id": "SLAgdLLQbt3H",
        "colab": {
          "base_uri": "https://localhost:8080/",
          "height": 197
        },
        "outputId": "a468d07c-408a-4e5a-800a-6820d4e46cc7"
      },
      "source": [
        "sj_test_total[\"reanalysis_max_air_temp_c\"]=sj_test_total[\"reanalysis_max_air_temp_k\"]-273.15\n",
        "sj_test_total[\"max_temp\"]=(sj_test_total[\"reanalysis_max_air_temp_c\"]+sj_test_total[\"station_max_temp_c\"])/2\n",
        "sj_test_total[[\"reanalysis_max_air_temp_c\",\"station_max_temp_c\",\"max_temp\"]].head()\n",
        "\n",
        "iq_test_total[\"reanalysis_max_air_temp_c\"]=iq_test_total[\"reanalysis_max_air_temp_k\"]-273.15\n",
        "iq_test_total[\"max_temp\"]=(iq_test_total[\"reanalysis_max_air_temp_c\"]+iq_test_total[\"station_max_temp_c\"])/2\n",
        "iq_test_total[[\"reanalysis_max_air_temp_c\",\"station_max_temp_c\",\"max_temp\"]].head()"
      ],
      "execution_count": null,
      "outputs": [
        {
          "output_type": "execute_result",
          "data": {
            "text/html": [
              "<div>\n",
              "<style scoped>\n",
              "    .dataframe tbody tr th:only-of-type {\n",
              "        vertical-align: middle;\n",
              "    }\n",
              "\n",
              "    .dataframe tbody tr th {\n",
              "        vertical-align: top;\n",
              "    }\n",
              "\n",
              "    .dataframe thead th {\n",
              "        text-align: right;\n",
              "    }\n",
              "</style>\n",
              "<table border=\"1\" class=\"dataframe\">\n",
              "  <thead>\n",
              "    <tr style=\"text-align: right;\">\n",
              "      <th></th>\n",
              "      <th>reanalysis_max_air_temp_c</th>\n",
              "      <th>station_max_temp_c</th>\n",
              "      <th>max_temp</th>\n",
              "    </tr>\n",
              "  </thead>\n",
              "  <tbody>\n",
              "    <tr>\n",
              "      <th>0</th>\n",
              "      <td>34.75</td>\n",
              "      <td>33.8</td>\n",
              "      <td>34.275</td>\n",
              "    </tr>\n",
              "    <tr>\n",
              "      <th>1</th>\n",
              "      <td>34.55</td>\n",
              "      <td>33.0</td>\n",
              "      <td>33.775</td>\n",
              "    </tr>\n",
              "    <tr>\n",
              "      <th>2</th>\n",
              "      <td>33.25</td>\n",
              "      <td>33.4</td>\n",
              "      <td>33.325</td>\n",
              "    </tr>\n",
              "    <tr>\n",
              "      <th>3</th>\n",
              "      <td>33.25</td>\n",
              "      <td>33.3</td>\n",
              "      <td>33.275</td>\n",
              "    </tr>\n",
              "    <tr>\n",
              "      <th>4</th>\n",
              "      <td>34.95</td>\n",
              "      <td>33.5</td>\n",
              "      <td>34.225</td>\n",
              "    </tr>\n",
              "  </tbody>\n",
              "</table>\n",
              "</div>"
            ],
            "text/plain": [
              "   reanalysis_max_air_temp_c  station_max_temp_c  max_temp\n",
              "0                      34.75                33.8    34.275\n",
              "1                      34.55                33.0    33.775\n",
              "2                      33.25                33.4    33.325\n",
              "3                      33.25                33.3    33.275\n",
              "4                      34.95                33.5    34.225"
            ]
          },
          "metadata": {
            "tags": []
          },
          "execution_count": 103
        }
      ]
    },
    {
      "cell_type": "markdown",
      "metadata": {
        "id": "rwabK3x1ssqT",
        "colab_type": "text"
      },
      "source": [
        "Avg prep "
      ]
    },
    {
      "cell_type": "code",
      "metadata": {
        "id": "PqjiGhEZsr2C",
        "colab_type": "code",
        "colab": {
          "base_uri": "https://localhost:8080/",
          "height": 197
        },
        "outputId": "857c27d4-77e8-4810-868f-19f8f24c9e63"
      },
      "source": [
        "sj_test_total[\"prep_avg\"]=(sj_test_total[\"station_precip_mm\"]+sj_test_total[\"reanalysis_sat_precip_amt_mm\"])/2\n",
        "sj_test_total[[\"station_precip_mm\",\"reanalysis_sat_precip_amt_mm\",\"prep_avg\"]].head()\n",
        "\n",
        "\n",
        "iq_test_total[\"prep_avg\"]=(iq_test_total[\"station_precip_mm\"]+iq_test_total[\"reanalysis_sat_precip_amt_mm\"])/2\n",
        "iq_test_total[[\"station_precip_mm\",\"reanalysis_sat_precip_amt_mm\",\"prep_avg\"]].head()"
      ],
      "execution_count": null,
      "outputs": [
        {
          "output_type": "execute_result",
          "data": {
            "text/html": [
              "<div>\n",
              "<style scoped>\n",
              "    .dataframe tbody tr th:only-of-type {\n",
              "        vertical-align: middle;\n",
              "    }\n",
              "\n",
              "    .dataframe tbody tr th {\n",
              "        vertical-align: top;\n",
              "    }\n",
              "\n",
              "    .dataframe thead th {\n",
              "        text-align: right;\n",
              "    }\n",
              "</style>\n",
              "<table border=\"1\" class=\"dataframe\">\n",
              "  <thead>\n",
              "    <tr style=\"text-align: right;\">\n",
              "      <th></th>\n",
              "      <th>station_precip_mm</th>\n",
              "      <th>reanalysis_sat_precip_amt_mm</th>\n",
              "      <th>prep_avg</th>\n",
              "    </tr>\n",
              "  </thead>\n",
              "  <tbody>\n",
              "    <tr>\n",
              "      <th>0</th>\n",
              "      <td>11.2</td>\n",
              "      <td>82.29</td>\n",
              "      <td>46.745</td>\n",
              "    </tr>\n",
              "    <tr>\n",
              "      <th>1</th>\n",
              "      <td>8.9</td>\n",
              "      <td>25.30</td>\n",
              "      <td>17.100</td>\n",
              "    </tr>\n",
              "    <tr>\n",
              "      <th>2</th>\n",
              "      <td>22.6</td>\n",
              "      <td>62.14</td>\n",
              "      <td>42.370</td>\n",
              "    </tr>\n",
              "    <tr>\n",
              "      <th>3</th>\n",
              "      <td>4.8</td>\n",
              "      <td>47.80</td>\n",
              "      <td>26.300</td>\n",
              "    </tr>\n",
              "    <tr>\n",
              "      <th>4</th>\n",
              "      <td>3.0</td>\n",
              "      <td>56.30</td>\n",
              "      <td>29.650</td>\n",
              "    </tr>\n",
              "  </tbody>\n",
              "</table>\n",
              "</div>"
            ],
            "text/plain": [
              "   station_precip_mm  reanalysis_sat_precip_amt_mm  prep_avg\n",
              "0               11.2                         82.29    46.745\n",
              "1                8.9                         25.30    17.100\n",
              "2               22.6                         62.14    42.370\n",
              "3                4.8                         47.80    26.300\n",
              "4                3.0                         56.30    29.650"
            ]
          },
          "metadata": {
            "tags": []
          },
          "execution_count": 101
        }
      ]
    },
    {
      "cell_type": "markdown",
      "metadata": {
        "id": "As7mNpMhMr6T",
        "colab_type": "text"
      },
      "source": [
        "Keep only usable columns:"
      ]
    },
    {
      "cell_type": "code",
      "metadata": {
        "id": "vub0FH_r-FHY",
        "colab_type": "code",
        "colab": {}
      },
      "source": [
        "sj_test_total=sj_test_total[cols]\n",
        "iq_test_total=iq_test_total[cols]"
      ],
      "execution_count": null,
      "outputs": []
    },
    {
      "cell_type": "code",
      "metadata": {
        "id": "D-tz_3xY8amj",
        "colab_type": "code",
        "colab": {}
      },
      "source": [
        "sj_test_total[\"is_test\"]=1\n",
        "iq_test_total[\"is_test\"]=1"
      ],
      "execution_count": null,
      "outputs": []
    },
    {
      "cell_type": "code",
      "metadata": {
        "id": "4KvJRrXI-OYA",
        "colab_type": "code",
        "colab": {
          "base_uri": "https://localhost:8080/",
          "height": 87
        },
        "outputId": "e48e2405-a8bf-48b0-b004-b8d07c597f3e"
      },
      "source": [
        "print(sj_train.shape)\n",
        "print(sj_test_total.shape)\n",
        "\n",
        "print(iq_train.shape)\n",
        "print(iq_test_total.shape)"
      ],
      "execution_count": null,
      "outputs": [
        {
          "output_type": "stream",
          "text": [
            "(936, 5)\n",
            "(260, 5)\n",
            "(442, 5)\n",
            "(156, 5)\n"
          ],
          "name": "stdout"
        }
      ]
    },
    {
      "cell_type": "markdown",
      "metadata": {
        "id": "_lEFNE8CM-Mc",
        "colab_type": "text"
      },
      "source": [
        "Combine both train and test data ( to include lag in the test variables)"
      ]
    },
    {
      "cell_type": "code",
      "metadata": {
        "id": "_0OaQtS5-riA",
        "colab_type": "code",
        "colab": {}
      },
      "source": [
        "sj_test_total=pd.concat([sj_train,sj_test_total])\n",
        "iq_test_total=pd.concat([iq_train,iq_test_total])"
      ],
      "execution_count": null,
      "outputs": []
    },
    {
      "cell_type": "markdown",
      "metadata": {
        "id": "eq7-MXICb3gM",
        "colab_type": "text"
      },
      "source": [
        "Required lag for model building"
      ]
    },
    {
      "cell_type": "code",
      "metadata": {
        "id": "QCP65FNvcMkK",
        "colab_type": "code",
        "colab": {}
      },
      "source": [
        "sj_test_total[\"max_temp_lag_1\"]=lag(sj_test_total[\"max_temp\"],1).bfill()\n",
        "\n",
        "sj_test_total[\"avg_temp_lag_10\"]=lag(sj_test_total[\"avg_temp\"],10).bfill()\n",
        "\n",
        "sj_test_total[\"specific_lag_9\"]=lag(sj_test_total[\"reanalysis_specific_humidity_g_per_kg\"],9).bfill()\n",
        "\n",
        "\n",
        "\n",
        "# #####################################\n",
        "\n",
        "iq_test_total[\"max_temp_lag_6\"]=lag(iq_test_total[\"max_temp\"],6).bfill()\n",
        "\n",
        "iq_test_total[\"specific_lag_1\"]=lag(iq_test_total[\"reanalysis_specific_humidity_g_per_kg\"],1).bfill()\n",
        "\n",
        "\n",
        "\n",
        "\n",
        "\n",
        "iq_test_total[\"avg_temp_lag_10\"]=lag(iq_test_total[\"avg_temp\"],10).bfill()\n",
        "\n",
        "iq_test_total[\"prep_lag_29\"]=lag(iq_test_total[\"prep_avg\"],29).bfill()\n"
      ],
      "execution_count": null,
      "outputs": []
    },
    {
      "cell_type": "markdown",
      "metadata": {
        "id": "nWG5OCu2NmAo",
        "colab_type": "text"
      },
      "source": [
        "Now get only test data points"
      ]
    },
    {
      "cell_type": "code",
      "metadata": {
        "id": "m6G01At2_4ki",
        "colab_type": "code",
        "colab": {}
      },
      "source": [
        "sj_test_total=sj_test_total[sj_test_total[\"is_test\"]==1]\n",
        "iq_test_total=iq_test_total[iq_test_total[\"is_test\"]==1]"
      ],
      "execution_count": null,
      "outputs": []
    },
    {
      "cell_type": "code",
      "metadata": {
        "id": "voOoD8LpnER2",
        "colab_type": "code",
        "colab": {}
      },
      "source": [
        "sj_test = sj_test_total[features_used_in_model_sj]\n",
        "iq_test = iq_test_total[features_used_in_model_iq]"
      ],
      "execution_count": null,
      "outputs": []
    },
    {
      "cell_type": "code",
      "metadata": {
        "id": "TDlBEQJmkoPs",
        "colab_type": "code",
        "colab": {
          "base_uri": "https://localhost:8080/",
          "height": 34
        },
        "outputId": "c9ea09e9-48bb-4fb4-de36-ffdd5c4cc73f"
      },
      "source": [
        "len(sj_test)"
      ],
      "execution_count": null,
      "outputs": [
        {
          "output_type": "execute_result",
          "data": {
            "text/plain": [
              "260"
            ]
          },
          "metadata": {
            "tags": []
          },
          "execution_count": 112
        }
      ]
    },
    {
      "cell_type": "markdown",
      "metadata": {
        "id": "9OXHeh4cNJzK",
        "colab_type": "text"
      },
      "source": [
        "Model building"
      ]
    },
    {
      "cell_type": "code",
      "metadata": {
        "id": "Xh7Oaw3onP4W",
        "colab_type": "code",
        "colab": {}
      },
      "source": [
        "sj_predictions = sj_best_model.predict(sj_test).astype(int)\n",
        "iq_predictions = iq_best_model.predict(iq_test).astype(int)"
      ],
      "execution_count": null,
      "outputs": []
    },
    {
      "cell_type": "code",
      "metadata": {
        "id": "yCE7puxENu0g",
        "colab_type": "code",
        "colab": {}
      },
      "source": [
        "# sj_test_total = pd.read_csv(\"SJ_test_for_model.csv\")\n",
        "# iq_test_total = pd.read_csv(\"IQ_test_for_model.csv\")"
      ],
      "execution_count": null,
      "outputs": []
    },
    {
      "cell_type": "code",
      "metadata": {
        "id": "oVgpBw49oUB6",
        "colab_type": "code",
        "colab": {}
      },
      "source": [
        "# plt.figure(figsize=(35, 10))\n",
        "# plt.plot(sj_test_total[\"week_start_date\"], sj_predictions)\n",
        "# ax = plt.gca()\n",
        "# ax.xaxis.set_major_locator(mdates.YearLocator(1, month=1, day=1))\n",
        "# ax.xaxis.set_major_formatter(mdates.DateFormatter('%d-%m-%Y'))\n",
        "# plt.show()"
      ],
      "execution_count": null,
      "outputs": []
    },
    {
      "cell_type": "code",
      "metadata": {
        "id": "UG9mGFPgn-sS",
        "colab_type": "code",
        "colab": {}
      },
      "source": [
        "# plt.figure(figsize=(35, 10))\n",
        "# plt.plot(iq_test_total[\"week_start_date\"], iq_predictions)\n",
        "# ax = plt.gca()\n",
        "# ax.xaxis.set_major_locator(mdates.YearLocator(1, month=1, day=1))\n",
        "# ax.xaxis.set_major_formatter(mdates.DateFormatter('%d-%m-%Y'))\n",
        "# plt.show()"
      ],
      "execution_count": null,
      "outputs": []
    },
    {
      "cell_type": "markdown",
      "metadata": {
        "id": "doE28_bQN2St",
        "colab_type": "text"
      },
      "source": [
        "### **Submission**"
      ]
    },
    {
      "cell_type": "code",
      "metadata": {
        "id": "x7IafcUyoJ_O",
        "colab_type": "code",
        "colab": {}
      },
      "source": [
        "submission = pd.read_csv(\"submission_format.csv\",\n",
        "                         index_col=[0, 1, 2])"
      ],
      "execution_count": null,
      "outputs": []
    },
    {
      "cell_type": "code",
      "metadata": {
        "id": "pkDKGKrxoujI",
        "colab_type": "code",
        "colab": {
          "base_uri": "https://localhost:8080/",
          "height": 34
        },
        "outputId": "aed588cd-8ce8-4c42-8d16-018f3ce2f7af"
      },
      "source": [
        "len(submission)"
      ],
      "execution_count": null,
      "outputs": [
        {
          "output_type": "execute_result",
          "data": {
            "text/plain": [
              "416"
            ]
          },
          "metadata": {
            "tags": []
          },
          "execution_count": 115
        }
      ]
    },
    {
      "cell_type": "code",
      "metadata": {
        "id": "eLUrDW4Eoy5T",
        "colab_type": "code",
        "colab": {
          "base_uri": "https://localhost:8080/",
          "height": 34
        },
        "outputId": "dc10018b-9ccb-4e2e-d32e-6bcd4cce029f"
      },
      "source": [
        "len(sj_predictions) + len(iq_predictions)"
      ],
      "execution_count": null,
      "outputs": [
        {
          "output_type": "execute_result",
          "data": {
            "text/plain": [
              "416"
            ]
          },
          "metadata": {
            "tags": []
          },
          "execution_count": 116
        }
      ]
    },
    {
      "cell_type": "code",
      "metadata": {
        "id": "nt7Sbj22of8X",
        "colab_type": "code",
        "colab": {}
      },
      "source": [
        "submission.total_cases = np.concatenate([sj_predictions, iq_predictions])"
      ],
      "execution_count": null,
      "outputs": []
    },
    {
      "cell_type": "code",
      "metadata": {
        "id": "j-QS0-_btjJC",
        "colab_type": "code",
        "colab": {
          "base_uri": "https://localhost:8080/",
          "height": 227
        },
        "outputId": "a233897e-5447-4b03-abae-b0e26a9f0f15"
      },
      "source": [
        "submission.head()"
      ],
      "execution_count": null,
      "outputs": [
        {
          "output_type": "execute_result",
          "data": {
            "text/html": [
              "<div>\n",
              "<style scoped>\n",
              "    .dataframe tbody tr th:only-of-type {\n",
              "        vertical-align: middle;\n",
              "    }\n",
              "\n",
              "    .dataframe tbody tr th {\n",
              "        vertical-align: top;\n",
              "    }\n",
              "\n",
              "    .dataframe thead th {\n",
              "        text-align: right;\n",
              "    }\n",
              "</style>\n",
              "<table border=\"1\" class=\"dataframe\">\n",
              "  <thead>\n",
              "    <tr style=\"text-align: right;\">\n",
              "      <th></th>\n",
              "      <th></th>\n",
              "      <th></th>\n",
              "      <th>total_cases</th>\n",
              "    </tr>\n",
              "    <tr>\n",
              "      <th>city</th>\n",
              "      <th>year</th>\n",
              "      <th>weekofyear</th>\n",
              "      <th></th>\n",
              "    </tr>\n",
              "  </thead>\n",
              "  <tbody>\n",
              "    <tr>\n",
              "      <th rowspan=\"5\" valign=\"top\">sj</th>\n",
              "      <th rowspan=\"5\" valign=\"top\">2008</th>\n",
              "      <th>18</th>\n",
              "      <td>13</td>\n",
              "    </tr>\n",
              "    <tr>\n",
              "      <th>19</th>\n",
              "      <td>14</td>\n",
              "    </tr>\n",
              "    <tr>\n",
              "      <th>20</th>\n",
              "      <td>11</td>\n",
              "    </tr>\n",
              "    <tr>\n",
              "      <th>21</th>\n",
              "      <td>15</td>\n",
              "    </tr>\n",
              "    <tr>\n",
              "      <th>22</th>\n",
              "      <td>16</td>\n",
              "    </tr>\n",
              "  </tbody>\n",
              "</table>\n",
              "</div>"
            ],
            "text/plain": [
              "                      total_cases\n",
              "city year weekofyear             \n",
              "sj   2008 18                   13\n",
              "          19                   14\n",
              "          20                   11\n",
              "          21                   15\n",
              "          22                   16"
            ]
          },
          "metadata": {
            "tags": []
          },
          "execution_count": 118
        }
      ]
    },
    {
      "cell_type": "code",
      "metadata": {
        "id": "6umKRj37n6V0",
        "colab_type": "code",
        "colab": {
          "base_uri": "https://localhost:8080/",
          "height": 35
        },
        "outputId": "c2a60d07-8b34-4061-8337-f9e280b8c914"
      },
      "source": [
        "os.getcwd()"
      ],
      "execution_count": null,
      "outputs": [
        {
          "output_type": "execute_result",
          "data": {
            "application/vnd.google.colaboratory.intrinsic+json": {
              "type": "string"
            },
            "text/plain": [
              "'/content/drive/.shortcut-targets-by-id/1SgmLgaSYaUA2-l0BIgckormJXAV09giU/GoML/Data'"
            ]
          },
          "metadata": {
            "tags": []
          },
          "execution_count": 119
        }
      ]
    },
    {
      "cell_type": "code",
      "metadata": {
        "id": "WWLzup1WopFd",
        "colab_type": "code",
        "colab": {}
      },
      "source": [
        "submission.to_csv(\"Smooth_data_vs_Old_best_var.csv\")"
      ],
      "execution_count": null,
      "outputs": []
    },
    {
      "cell_type": "code",
      "metadata": {
        "id": "yWdV-iFUtZ9k",
        "colab_type": "code",
        "colab": {}
      },
      "source": [
        ""
      ],
      "execution_count": null,
      "outputs": []
    },
    {
      "cell_type": "code",
      "metadata": {
        "id": "KIZ_BZgFVrcq",
        "colab_type": "code",
        "colab": {}
      },
      "source": [
        "submission_1 = pd.read_csv(\"exp_12.csv\",\n",
        "                         index_col=[0, 1, 2])"
      ],
      "execution_count": null,
      "outputs": []
    },
    {
      "cell_type": "code",
      "metadata": {
        "id": "QhDl2qVbXBBl",
        "colab_type": "code",
        "colab": {}
      },
      "source": [
        "submission_2 = pd.read_csv(\"submission_sarima_tuned_2.csv\",\n",
        "                         index_col=[0, 1, 2])"
      ],
      "execution_count": null,
      "outputs": []
    },
    {
      "cell_type": "code",
      "metadata": {
        "id": "uxIFYzEJXVCv",
        "colab_type": "code",
        "colab": {}
      },
      "source": [
        "submission = pd.read_csv(\"submission_format.csv\",\n",
        "                         index_col=[0, 1, 2])"
      ],
      "execution_count": null,
      "outputs": []
    },
    {
      "cell_type": "code",
      "metadata": {
        "id": "sTXJkA7pXmuq",
        "colab_type": "code",
        "colab": {}
      },
      "source": [
        "submission.total_cases = ((submission_1.total_cases+submission_2.total_cases)/2).astype(int)"
      ],
      "execution_count": null,
      "outputs": []
    },
    {
      "cell_type": "code",
      "metadata": {
        "id": "6Mn9GMX7X1z2",
        "colab_type": "code",
        "colab": {
          "base_uri": "https://localhost:8080/",
          "height": 226
        },
        "outputId": "05e24276-bea4-4d3e-e85e-cb7dc34724e1"
      },
      "source": [
        "submission.head()"
      ],
      "execution_count": null,
      "outputs": [
        {
          "output_type": "execute_result",
          "data": {
            "text/html": [
              "<div>\n",
              "<style scoped>\n",
              "    .dataframe tbody tr th:only-of-type {\n",
              "        vertical-align: middle;\n",
              "    }\n",
              "\n",
              "    .dataframe tbody tr th {\n",
              "        vertical-align: top;\n",
              "    }\n",
              "\n",
              "    .dataframe thead th {\n",
              "        text-align: right;\n",
              "    }\n",
              "</style>\n",
              "<table border=\"1\" class=\"dataframe\">\n",
              "  <thead>\n",
              "    <tr style=\"text-align: right;\">\n",
              "      <th></th>\n",
              "      <th></th>\n",
              "      <th></th>\n",
              "      <th>total_cases</th>\n",
              "    </tr>\n",
              "    <tr>\n",
              "      <th>city</th>\n",
              "      <th>year</th>\n",
              "      <th>weekofyear</th>\n",
              "      <th></th>\n",
              "    </tr>\n",
              "  </thead>\n",
              "  <tbody>\n",
              "    <tr>\n",
              "      <th rowspan=\"5\" valign=\"top\">sj</th>\n",
              "      <th rowspan=\"5\" valign=\"top\">2008</th>\n",
              "      <th>18</th>\n",
              "      <td>10</td>\n",
              "    </tr>\n",
              "    <tr>\n",
              "      <th>19</th>\n",
              "      <td>12</td>\n",
              "    </tr>\n",
              "    <tr>\n",
              "      <th>20</th>\n",
              "      <td>10</td>\n",
              "    </tr>\n",
              "    <tr>\n",
              "      <th>21</th>\n",
              "      <td>12</td>\n",
              "    </tr>\n",
              "    <tr>\n",
              "      <th>22</th>\n",
              "      <td>14</td>\n",
              "    </tr>\n",
              "  </tbody>\n",
              "</table>\n",
              "</div>"
            ],
            "text/plain": [
              "                      total_cases\n",
              "city year weekofyear             \n",
              "sj   2008 18                   10\n",
              "          19                   12\n",
              "          20                   10\n",
              "          21                   12\n",
              "          22                   14"
            ]
          },
          "metadata": {
            "tags": []
          },
          "execution_count": 22
        }
      ]
    },
    {
      "cell_type": "code",
      "metadata": {
        "id": "m5xFA9jkX4DQ",
        "colab_type": "code",
        "colab": {}
      },
      "source": [
        "submission.to_csv(\"exp_422.csv\")"
      ],
      "execution_count": null,
      "outputs": []
    },
    {
      "cell_type": "code",
      "metadata": {
        "id": "5X13lgN_YA1d",
        "colab_type": "code",
        "colab": {}
      },
      "source": [
        ""
      ],
      "execution_count": null,
      "outputs": []
    }
  ]
}