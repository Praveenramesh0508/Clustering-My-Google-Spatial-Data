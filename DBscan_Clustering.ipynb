{
  "nbformat": 4,
  "nbformat_minor": 0,
  "metadata": {
    "colab": {
      "name": "DBscan_Clustering.ipynb",
      "provenance": [],
      "collapsed_sections": []
    },
    "kernelspec": {
      "name": "python3",
      "display_name": "Python 3"
    }
  },
  "cells": [
    {
      "cell_type": "code",
      "metadata": {
        "id": "t89WNB8Pil1h",
        "colab_type": "code",
        "colab": {
          "base_uri": "https://localhost:8080/",
          "height": 34
        },
        "outputId": "cd7e0859-9869-4a15-8f9f-6dbaba47bc75"
      },
      "source": [
        "import pandas as pd\n",
        "import numpy as np\n",
        "from google.colab import drive\n",
        "import os\n",
        "drive.mount('/content/drive/')\n",
        "os.chdir('/content/drive/My Drive/Google_clustering')\n",
        "pd.set_option('display.max_rows', 500)\n"
      ],
      "execution_count": 2,
      "outputs": [
        {
          "output_type": "stream",
          "text": [
            "Drive already mounted at /content/drive/; to attempt to forcibly remount, call drive.mount(\"/content/drive/\", force_remount=True).\n"
          ],
          "name": "stdout"
        }
      ]
    },
    {
      "cell_type": "code",
      "metadata": {
        "id": "xEe2d5HGioMM",
        "colab_type": "code",
        "colab": {}
      },
      "source": [
        "import pandas as pd, numpy as np, matplotlib.pyplot as plt, time\n",
        "from sklearn.cluster import DBSCAN\n",
        "from geopy.distance import great_circle\n",
        "from shapely.geometry import MultiPoint\n",
        "from datetime import datetime as dt\n"
      ],
      "execution_count": 3,
      "outputs": []
    },
    {
      "cell_type": "code",
      "metadata": {
        "id": "JEnEPVf2jrjV",
        "colab_type": "code",
        "colab": {
          "base_uri": "https://localhost:8080/",
          "height": 52
        },
        "outputId": "ee73f842-0988-4812-e5a3-9efc5eeed757"
      },
      "source": [
        "!ls"
      ],
      "execution_count": 4,
      "outputs": [
        {
          "output_type": "stream",
          "text": [
            " Clustering_data.csv\t  My_location_history.png\n",
            "'Location History.json'   Visualizing_location_history\n"
          ],
          "name": "stdout"
        }
      ]
    },
    {
      "cell_type": "code",
      "metadata": {
        "id": "afbIQcTjixE-",
        "colab_type": "code",
        "colab": {}
      },
      "source": [
        "df_gps = pd.read_json('Location History.json')\n"
      ],
      "execution_count": 5,
      "outputs": []
    },
    {
      "cell_type": "code",
      "metadata": {
        "id": "g3eQsA7Ji4EV",
        "colab_type": "code",
        "colab": {
          "base_uri": "https://localhost:8080/",
          "height": 34
        },
        "outputId": "10306d7b-06f5-45c6-abf2-ca03cf09f8a5"
      },
      "source": [
        "print('There are {:,} rows'.format(len(df_gps)))"
      ],
      "execution_count": 6,
      "outputs": [
        {
          "output_type": "stream",
          "text": [
            "There are 293,536 rows\n"
          ],
          "name": "stdout"
        }
      ]
    },
    {
      "cell_type": "code",
      "metadata": {
        "id": "FALidjSq6Nkc",
        "colab_type": "code",
        "colab": {
          "base_uri": "https://localhost:8080/",
          "height": 123
        },
        "outputId": "3e7e99b7-10f5-4af5-89a0-63b0bf354fae"
      },
      "source": [
        "df_gps[\"locations\"].head()"
      ],
      "execution_count": 7,
      "outputs": [
        {
          "output_type": "execute_result",
          "data": {
            "text/plain": [
              "0    {'timestampMs': '1465965720372', 'latitudeE7':...\n",
              "1    {'timestampMs': '1465965739870', 'latitudeE7':...\n",
              "2    {'timestampMs': '1468842511651', 'latitudeE7':...\n",
              "3    {'timestampMs': '1468842535413', 'latitudeE7':...\n",
              "4    {'timestampMs': '1468842550427', 'latitudeE7':...\n",
              "Name: locations, dtype: object"
            ]
          },
          "metadata": {
            "tags": []
          },
          "execution_count": 7
        }
      ]
    },
    {
      "cell_type": "code",
      "metadata": {
        "id": "bFoZlYC3kW1s",
        "colab_type": "code",
        "colab": {}
      },
      "source": [
        "df_gps['lat'] = df_gps['locations'].map(lambda x: x['latitudeE7']) / 10.**7\n",
        "df_gps['lon'] = df_gps['locations'].map(lambda x: x['longitudeE7']) / 10.**7"
      ],
      "execution_count": 8,
      "outputs": []
    },
    {
      "cell_type": "code",
      "metadata": {
        "id": "KXnenSIQkbOr",
        "colab_type": "code",
        "colab": {}
      },
      "source": [
        "df_gps['timestamp_s'] = (df_gps['locations'].map(lambda x: x['timestampMs']).astype(float) / 1000).astype(int)\n",
        "df_gps['datetime'] = pd.to_datetime(df_gps['timestamp_s'], unit='s')"
      ],
      "execution_count": 9,
      "outputs": []
    },
    {
      "cell_type": "code",
      "metadata": {
        "id": "IATufW2ZkeTC",
        "colab_type": "code",
        "colab": {}
      },
      "source": [
        "\n",
        "# filter out points with altitudes above 3000 meters to remove airplane data\n",
        "df_gps['altitude'] = df_gps['locations'].map(lambda x: x['altitude'] if 'altitude' in x else None)\n",
        "mask = (df_gps['altitude'] < 3000) | (pd.isnull(df_gps['altitude']))\n",
        "df_gps = df_gps[mask]"
      ],
      "execution_count": 10,
      "outputs": []
    },
    {
      "cell_type": "code",
      "metadata": {
        "id": "dRSnz7GXkg4t",
        "colab_type": "code",
        "colab": {}
      },
      "source": [
        "kms_per_radian = 6371.0088"
      ],
      "execution_count": 11,
      "outputs": []
    },
    {
      "cell_type": "code",
      "metadata": {
        "id": "NWDb9OqTtQ9V",
        "colab_type": "code",
        "colab": {}
      },
      "source": [
        "df_gps_sample=df_gps.head(90000)"
      ],
      "execution_count": 12,
      "outputs": []
    },
    {
      "cell_type": "code",
      "metadata": {
        "id": "gsihuDJJkizW",
        "colab_type": "code",
        "colab": {}
      },
      "source": [
        "# coords = df_gps.as_matrix(columns=[\"lat\", \"lon\"])   \n",
        "coords = df_gps_sample[[\"lat\", \"lon\"]].to_numpy()"
      ],
      "execution_count": 13,
      "outputs": []
    },
    {
      "cell_type": "code",
      "metadata": {
        "id": "izPzIBJllVTH",
        "colab_type": "code",
        "colab": {
          "base_uri": "https://localhost:8080/",
          "height": 34
        },
        "outputId": "971bc4d4-21b7-4ffb-b5ea-be4c505815d0"
      },
      "source": [
        "coords.shape"
      ],
      "execution_count": 14,
      "outputs": [
        {
          "output_type": "execute_result",
          "data": {
            "text/plain": [
              "(90000, 2)"
            ]
          },
          "metadata": {
            "tags": []
          },
          "execution_count": 14
        }
      ]
    },
    {
      "cell_type": "code",
      "metadata": {
        "id": "QIuKLL44l-wc",
        "colab_type": "code",
        "colab": {}
      },
      "source": [
        "db = DBSCAN(eps=0.05/6371.0088, min_samples=2, algorithm='ball_tree', metric='haversine').fit_predict(np.radians(coords))\n",
        "df_gps_sample['cluster'] = db"
      ],
      "execution_count": null,
      "outputs": []
    },
    {
      "cell_type": "code",
      "metadata": {
        "id": "PeTkefPcqCjE",
        "colab_type": "code",
        "colab": {
          "base_uri": "https://localhost:8080/",
          "height": 34
        },
        "outputId": "9f57ae00-b47c-49ac-a2a8-55ed44f6a88b"
      },
      "source": [
        "df_gps_sample['cluster'].nunique()"
      ],
      "execution_count": 16,
      "outputs": [
        {
          "output_type": "execute_result",
          "data": {
            "text/plain": [
              "629"
            ]
          },
          "metadata": {
            "tags": []
          },
          "execution_count": 16
        }
      ]
    },
    {
      "cell_type": "code",
      "metadata": {
        "id": "nQEsmjK724y-",
        "colab_type": "code",
        "colab": {
          "base_uri": "https://localhost:8080/",
          "height": 47
        },
        "outputId": "7b19d6f2-ac02-4296-a01b-cdd9a955b747"
      },
      "source": [
        "df_gps_sample[df_gps_sample['cluster']==708]"
      ],
      "execution_count": 17,
      "outputs": [
        {
          "output_type": "execute_result",
          "data": {
            "text/html": [
              "<div>\n",
              "<style scoped>\n",
              "    .dataframe tbody tr th:only-of-type {\n",
              "        vertical-align: middle;\n",
              "    }\n",
              "\n",
              "    .dataframe tbody tr th {\n",
              "        vertical-align: top;\n",
              "    }\n",
              "\n",
              "    .dataframe thead th {\n",
              "        text-align: right;\n",
              "    }\n",
              "</style>\n",
              "<table border=\"1\" class=\"dataframe\">\n",
              "  <thead>\n",
              "    <tr style=\"text-align: right;\">\n",
              "      <th></th>\n",
              "      <th>locations</th>\n",
              "      <th>lat</th>\n",
              "      <th>lon</th>\n",
              "      <th>timestamp_s</th>\n",
              "      <th>datetime</th>\n",
              "      <th>altitude</th>\n",
              "      <th>cluster</th>\n",
              "    </tr>\n",
              "  </thead>\n",
              "  <tbody>\n",
              "  </tbody>\n",
              "</table>\n",
              "</div>"
            ],
            "text/plain": [
              "Empty DataFrame\n",
              "Columns: [locations, lat, lon, timestamp_s, datetime, altitude, cluster]\n",
              "Index: []"
            ]
          },
          "metadata": {
            "tags": []
          },
          "execution_count": 17
        }
      ]
    },
    {
      "cell_type": "code",
      "metadata": {
        "id": "On_1m7trtt5u",
        "colab_type": "code",
        "colab": {}
      },
      "source": [
        "clusters=df_gps_sample.groupby([\"cluster\"]).lat.count().sort_values(ascending=False)"
      ],
      "execution_count": 18,
      "outputs": []
    },
    {
      "cell_type": "code",
      "metadata": {
        "id": "NmxrpRBBx13Q",
        "colab_type": "code",
        "colab": {
          "base_uri": "https://localhost:8080/",
          "height": 141
        },
        "outputId": "dbfc439f-7021-425c-caaa-086f19cf2e01"
      },
      "source": [
        "clusters.head(5)"
      ],
      "execution_count": 19,
      "outputs": [
        {
          "output_type": "execute_result",
          "data": {
            "text/plain": [
              "cluster\n",
              " 1      64397\n",
              " 26      9889\n",
              " 22      3864\n",
              " 228     2307\n",
              "-1        573\n",
              "Name: lat, dtype: int64"
            ]
          },
          "metadata": {
            "tags": []
          },
          "execution_count": 19
        }
      ]
    },
    {
      "cell_type": "code",
      "metadata": {
        "id": "QA9WfiAXtzOp",
        "colab_type": "code",
        "colab": {
          "base_uri": "https://localhost:8080/",
          "height": 137
        },
        "outputId": "b7a08172-b4e4-4466-be13-6ee366d10908"
      },
      "source": [
        "df_gps_sample[df_gps_sample[\"cluster\"]==91].head(20)"
      ],
      "execution_count": 20,
      "outputs": [
        {
          "output_type": "execute_result",
          "data": {
            "text/html": [
              "<div>\n",
              "<style scoped>\n",
              "    .dataframe tbody tr th:only-of-type {\n",
              "        vertical-align: middle;\n",
              "    }\n",
              "\n",
              "    .dataframe tbody tr th {\n",
              "        vertical-align: top;\n",
              "    }\n",
              "\n",
              "    .dataframe thead th {\n",
              "        text-align: right;\n",
              "    }\n",
              "</style>\n",
              "<table border=\"1\" class=\"dataframe\">\n",
              "  <thead>\n",
              "    <tr style=\"text-align: right;\">\n",
              "      <th></th>\n",
              "      <th>locations</th>\n",
              "      <th>lat</th>\n",
              "      <th>lon</th>\n",
              "      <th>timestamp_s</th>\n",
              "      <th>datetime</th>\n",
              "      <th>altitude</th>\n",
              "      <th>cluster</th>\n",
              "    </tr>\n",
              "  </thead>\n",
              "  <tbody>\n",
              "    <tr>\n",
              "      <th>2383</th>\n",
              "      <td>{'timestampMs': '1483119678202', 'latitudeE7':...</td>\n",
              "      <td>10.760552</td>\n",
              "      <td>79.839303</td>\n",
              "      <td>1483119678</td>\n",
              "      <td>2016-12-30 17:41:18</td>\n",
              "      <td>NaN</td>\n",
              "      <td>91</td>\n",
              "    </tr>\n",
              "    <tr>\n",
              "      <th>2384</th>\n",
              "      <td>{'timestampMs': '1483119699222', 'latitudeE7':...</td>\n",
              "      <td>10.760552</td>\n",
              "      <td>79.839303</td>\n",
              "      <td>1483119699</td>\n",
              "      <td>2016-12-30 17:41:39</td>\n",
              "      <td>NaN</td>\n",
              "      <td>91</td>\n",
              "    </tr>\n",
              "    <tr>\n",
              "      <th>5289</th>\n",
              "      <td>{'timestampMs': '1484396822311', 'latitudeE7':...</td>\n",
              "      <td>10.760552</td>\n",
              "      <td>79.839303</td>\n",
              "      <td>1484396822</td>\n",
              "      <td>2017-01-14 12:27:02</td>\n",
              "      <td>NaN</td>\n",
              "      <td>91</td>\n",
              "    </tr>\n",
              "  </tbody>\n",
              "</table>\n",
              "</div>"
            ],
            "text/plain": [
              "                                              locations  ...  cluster\n",
              "2383  {'timestampMs': '1483119678202', 'latitudeE7':...  ...       91\n",
              "2384  {'timestampMs': '1483119699222', 'latitudeE7':...  ...       91\n",
              "5289  {'timestampMs': '1484396822311', 'latitudeE7':...  ...       91\n",
              "\n",
              "[3 rows x 7 columns]"
            ]
          },
          "metadata": {
            "tags": []
          },
          "execution_count": 20
        }
      ]
    },
    {
      "cell_type": "code",
      "metadata": {
        "id": "Igrdp--Zt-7D",
        "colab_type": "code",
        "colab": {
          "base_uri": "https://localhost:8080/",
          "height": 77
        },
        "outputId": "c9c48b61-c9bd-4f51-b6e3-ac024f56fb7b"
      },
      "source": [
        "df_gps_sample[df_gps_sample[\"cluster\"]==336].tail(1)"
      ],
      "execution_count": 21,
      "outputs": [
        {
          "output_type": "execute_result",
          "data": {
            "text/html": [
              "<div>\n",
              "<style scoped>\n",
              "    .dataframe tbody tr th:only-of-type {\n",
              "        vertical-align: middle;\n",
              "    }\n",
              "\n",
              "    .dataframe tbody tr th {\n",
              "        vertical-align: top;\n",
              "    }\n",
              "\n",
              "    .dataframe thead th {\n",
              "        text-align: right;\n",
              "    }\n",
              "</style>\n",
              "<table border=\"1\" class=\"dataframe\">\n",
              "  <thead>\n",
              "    <tr style=\"text-align: right;\">\n",
              "      <th></th>\n",
              "      <th>locations</th>\n",
              "      <th>lat</th>\n",
              "      <th>lon</th>\n",
              "      <th>timestamp_s</th>\n",
              "      <th>datetime</th>\n",
              "      <th>altitude</th>\n",
              "      <th>cluster</th>\n",
              "    </tr>\n",
              "  </thead>\n",
              "  <tbody>\n",
              "    <tr>\n",
              "      <th>45106</th>\n",
              "      <td>{'timestampMs': '1498981837471', 'latitudeE7':...</td>\n",
              "      <td>10.718643</td>\n",
              "      <td>79.063361</td>\n",
              "      <td>1498981837</td>\n",
              "      <td>2017-07-02 07:50:37</td>\n",
              "      <td>NaN</td>\n",
              "      <td>336</td>\n",
              "    </tr>\n",
              "  </tbody>\n",
              "</table>\n",
              "</div>"
            ],
            "text/plain": [
              "                                               locations  ...  cluster\n",
              "45106  {'timestampMs': '1498981837471', 'latitudeE7':...  ...      336\n",
              "\n",
              "[1 rows x 7 columns]"
            ]
          },
          "metadata": {
            "tags": []
          },
          "execution_count": 21
        }
      ]
    }
  ]
}